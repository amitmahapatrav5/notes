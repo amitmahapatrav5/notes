{
 "cells": [
  {
   "cell_type": "markdown",
   "id": "37ddf456",
   "metadata": {},
   "source": [
    "# LangChain Runnable - Part 2"
   ]
  },
  {
   "cell_type": "markdown",
   "id": "98bd8c92-3b39-4095-84b1-43ab15e68f53",
   "metadata": {},
   "source": [
    "## Types of Runnable\n",
    "\n",
    "In LangChain, we have 2 types of Runnables\n",
    "\n",
    "1. **Task Specific Runnable**: These are the runnables which are core LangChain components. E.g. PromptTemplate, Retrieve (FakeModelComponent class in the Fake Runnable Example) etc\n",
    "2. **Runnable Primitives**: These help other task specific runnables in being connected. Kinda orchestrator runnables. E.g. RunnableSequence, RunnableParallel, RunnableLambda, RunnableBranch (RunnableConnector class in the Fake Runnable Example)etc"
   ]
  },
  {
   "cell_type": "markdown",
   "id": "fb764260-f62d-4ec0-93d3-62ba5cfc933c",
   "metadata": {},
   "source": [
    "## Runnable Primitives"
   ]
  },
  {
   "cell_type": "markdown",
   "id": "fd23a720-7e24-46b9-a52a-0fbc8b8d2357",
   "metadata": {},
   "source": [
    "### RunnableSequence\n",
    "\n",
    "- We can connect n runnables in sequence using this primitive"
   ]
  },
  {
   "cell_type": "code",
   "execution_count": null,
   "id": "6c079518",
   "metadata": {},
   "outputs": [],
   "source": [
    "from dotenv import load_dotenv\n",
    "from langchain_core.prompts import PromptTemplate\n",
    "from langchain_core.output_parsers import StrOutputParser\n",
    "from langchain_core.runnables import RunnableSequence\n",
    "from langchain_huggingface import HuggingFaceEndpoint, ChatHuggingFace\n",
    "\n",
    "\n",
    "load_dotenv()\n",
    "\n",
    "\n",
    "llm = HuggingFaceEndpoint(repo_id='', task='text-generation')\n",
    "model = ChatHuggingFace(llm=llm)\n",
    "\n",
    "prompt_template = PromptTemplate(\n",
    "    template = \"\"\"\n",
    "    What is the capital of {country}\n",
    "    \"\"\",\n",
    "    input_variables = ['country']\n",
    ")\n",
    "\n",
    "output_parser = StrOutputParser()\n",
    "\n",
    "chain = RunnableSequence(prompt_template, model, output_parser)\n",
    "\n",
    "print(chain.invoke())"
   ]
  },
  {
   "cell_type": "markdown",
   "id": "786c77ef",
   "metadata": {},
   "source": [
    "### RunnableParallel\n",
    "\n",
    "- Helps you in execute 2 runnables in parallel\n",
    "- Each runnable receives the same input and process it independently and produce a dictionary of output"
   ]
  },
  {
   "cell_type": "code",
   "execution_count": null,
   "id": "deb96e00",
   "metadata": {},
   "outputs": [],
   "source": [
    "from dotenv import load_dotenv\n",
    "from langchain_core.prompts import PromptTemplate\n",
    "from langchain_core.output_parsers import StrOutputParser\n",
    "from langchain_core.runnables import RunnableSequence, RunnableParallel\n",
    "from langchain_huggingface import HuggingFaceEndpoint, ChatHuggingFace\n",
    "\n",
    "\n",
    "load_dotenv()\n",
    "\n",
    "\n",
    "llm = HuggingFaceEndpoint(repo_id='', task='text-generation')\n",
    "model = ChatHuggingFace(llm=llm)\n",
    "\n",
    "prompt_template_1 = PromptTemplate(\n",
    "    template = \"\"\"\n",
    "    What is the capital of {country}\n",
    "    \"\"\",\n",
    "    input_variables = ['country']\n",
    ")\n",
    "\n",
    "prompt_template_2 = PromptTemplate(\n",
    "    template = \"\"\"\n",
    "    What is the capital of {state}\n",
    "    \"\"\",\n",
    "    input_variables = ['state']\n",
    ")\n",
    "\n",
    "\n",
    "output_parser = StrOutputParser()\n",
    "\n",
    "chain = RunnableParallel({\n",
    "    \"country_capital\": RunnableSequence(prompt_template_1, model, output_parser),\n",
    "    \"state_capital\": RunnableSequence(prompt_template_2, model, output_parser)\n",
    "})\n",
    "\n",
    "print(chain.invoke({\n",
    "    \"country\": 'India',\n",
    "    \"state\": 'Odisha'\n",
    "}))"
   ]
  },
  {
   "cell_type": "markdown",
   "id": "cf209541",
   "metadata": {},
   "source": [
    "### RunnablePassthrough\n",
    "\n",
    "- Whatever input it gets, returns the exact same input"
   ]
  },
  {
   "cell_type": "code",
   "execution_count": null,
   "id": "f780517c",
   "metadata": {},
   "outputs": [],
   "source": [
    "prompt_creation_chain = RunnableParallel(\n",
    "    {\n",
    "        'context': retriever | RunnableLambda(lambda docs: '\\n\\n'.join( [ doc.page_content for doc in docs ] )),\n",
    "        'query': RunnablePassthrough()\n",
    "    }\n",
    ")"
   ]
  },
  {
   "cell_type": "markdown",
   "id": "be9be246",
   "metadata": {},
   "source": [
    "### RunnableLambda\n",
    "\n",
    "- It can convert any python function into a runnable.\n",
    "- The benefit of this is, we can use that function in with other runnable components"
   ]
  },
  {
   "cell_type": "code",
   "execution_count": null,
   "id": "ab06b03d",
   "metadata": {},
   "outputs": [],
   "source": [
    "from langchain_core.runnables import RunnablePassthrough, RunnableParallel, RunnableLambda\n",
    "\n",
    "\n",
    "chain = RunnableParallel({\n",
    "    'num': RunnablePassthrough(),\n",
    "    'square': RunnableLambda(lambda num: num**2),\n",
    "    'cube': RunnableLambda(lambda num: num**3)\n",
    "})\n",
    "\n",
    "print(chain.invoke(10))"
   ]
  },
  {
   "cell_type": "markdown",
   "id": "99798618",
   "metadata": {},
   "source": [
    "### RunnableBranch\n",
    "\n",
    "- If Else of LangChain universe"
   ]
  },
  {
   "cell_type": "code",
   "execution_count": 1,
   "id": "0c86fe0d",
   "metadata": {},
   "outputs": [
    {
     "name": "stdout",
     "output_type": "stream",
     "text": [
      "{'num': 10, 'square or cube': 100}\n"
     ]
    }
   ],
   "source": [
    "from langchain_core.runnables import (\n",
    "    RunnablePassthrough,\n",
    "    RunnableParallel,\n",
    "    RunnableLambda,\n",
    "    RunnableBranch\n",
    ")\n",
    "\n",
    "branch = RunnableBranch(\n",
    "    (lambda num: num%2==0, RunnableLambda(lambda num: num**2)),\n",
    "    RunnableLambda(lambda num: num**3)\n",
    ")\n",
    "\n",
    "chain = RunnableParallel({\n",
    "    'num': RunnablePassthrough(),\n",
    "    'square or cube': branch\n",
    "})\n",
    "\n",
    "print(chain.invoke(10))"
   ]
  }
 ],
 "metadata": {
  "kernelspec": {
   "display_name": "Python 3 (ipykernel)",
   "language": "python",
   "name": "python3"
  },
  "language_info": {
   "codemirror_mode": {
    "name": "ipython",
    "version": 3
   },
   "file_extension": ".py",
   "mimetype": "text/x-python",
   "name": "python",
   "nbconvert_exporter": "python",
   "pygments_lexer": "ipython3",
   "version": "3.12.11"
  }
 },
 "nbformat": 4,
 "nbformat_minor": 5
}
