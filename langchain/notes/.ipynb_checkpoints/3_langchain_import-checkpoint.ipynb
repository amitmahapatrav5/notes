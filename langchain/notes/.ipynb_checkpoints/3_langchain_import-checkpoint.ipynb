{
 "cells": [
  {
   "cell_type": "markdown",
   "id": "da44dd3f",
   "metadata": {},
   "source": [
    "# LangChain Component Imports"
   ]
  },
  {
   "cell_type": "markdown",
   "id": "f2c8abc5-2258-4946-a068-25e0d603cb0e",
   "metadata": {},
   "source": [
    "## 5 Types of Imports"
   ]
  },
  {
   "cell_type": "code",
   "execution_count": 2,
   "id": "a567eacc",
   "metadata": {},
   "outputs": [],
   "source": [
    "# from langchain_core.<component> import something\n",
    "from langchain_core.documents import Document\n",
    "\n",
    "# from langchain.<component> import something\n",
    "from langchain.chains import LLMChain\n",
    "\n",
    "# from langchain_community.<component> import something\n",
    "from langchain_community.document_loaders import TextLoader\n",
    "\n",
    "# from langchain_<vendor> import something\n",
    "from langchain_chroma import Chroma\n",
    "\n",
    "# from langchain_text_splitters import something\n",
    "from langchain_text_splitters import RecursiveCharacterTextSplitter"
   ]
  },
  {
   "cell_type": "markdown",
   "id": "e4ba15b1",
   "metadata": {},
   "source": [
    "## Embeddings"
   ]
  },
  {
   "cell_type": "code",
   "execution_count": 3,
   "id": "09bc9411",
   "metadata": {},
   "outputs": [],
   "source": [
    "# Interface\n",
    "from langchain_core.embeddings import Embeddings\n",
    "\n",
    "# Vendor implementations\n",
    "from langchain_openai import OpenAIEmbeddings # OpenAI\n",
    "from langchain_aws import BedrockEmbeddings # AWS Bedrock"
   ]
  },
  {
   "cell_type": "markdown",
   "id": "d209ac44",
   "metadata": {},
   "source": [
    "## Document Loader"
   ]
  },
  {
   "cell_type": "code",
   "execution_count": 4,
   "id": "0be90215",
   "metadata": {},
   "outputs": [],
   "source": [
    "# Interface\n",
    "from langchain_core.document_loaders import BaseLoader\n",
    "\n",
    "# Concrete loaders\n",
    "from langchain_community.document_loaders import TextLoader\n",
    "from langchain_community.document_loaders import PyPDFLoader"
   ]
  },
  {
   "cell_type": "markdown",
   "id": "25477e63",
   "metadata": {},
   "source": [
    "## Splitter"
   ]
  },
  {
   "cell_type": "code",
   "execution_count": 5,
   "id": "7436b7ce",
   "metadata": {},
   "outputs": [],
   "source": [
    "# All text splitters are in their own package now\n",
    "from langchain_text_splitters import RecursiveCharacterTextSplitter\n",
    "from langchain_text_splitters import CharacterTextSplitter\n",
    "from langchain_text_splitters import TokenTextSplitter"
   ]
  },
  {
   "cell_type": "markdown",
   "id": "c90cca6c",
   "metadata": {},
   "source": [
    "## Vector Store"
   ]
  },
  {
   "cell_type": "code",
   "execution_count": 6,
   "id": "bdc73756",
   "metadata": {},
   "outputs": [],
   "source": [
    "# Interfaces\n",
    "from langchain_core.vectorstores import VectorStore\n",
    "from langchain_core.vectorstores import InMemoryVectorStore\n",
    "\n",
    "# Vendor/community implementations\n",
    "from langchain_chroma import Chroma                        # Chroma (vendor package)\n",
    "from langchain_community.vectorstores.faiss import FAISS   # FAISS (community)"
   ]
  },
  {
   "cell_type": "markdown",
   "id": "fc089a49",
   "metadata": {},
   "source": [
    "## Prompt"
   ]
  },
  {
   "cell_type": "code",
   "execution_count": 7,
   "id": "cf49d585",
   "metadata": {},
   "outputs": [],
   "source": [
    "from langchain_core.prompts import PromptTemplate\n",
    "from langchain_core.prompts import ChatPromptTemplate\n",
    "from langchain_core.prompts import MessagesPlaceholder"
   ]
  },
  {
   "cell_type": "markdown",
   "id": "e15cda28",
   "metadata": {},
   "source": [
    "## Messages"
   ]
  },
  {
   "cell_type": "code",
   "execution_count": 8,
   "id": "75726d54",
   "metadata": {},
   "outputs": [],
   "source": [
    "from langchain_core.messages import HumanMessage\n",
    "from langchain_core.messages import AIMessage\n",
    "from langchain_core.messages import SystemMessage"
   ]
  },
  {
   "cell_type": "markdown",
   "id": "68a0c915",
   "metadata": {},
   "source": [
    "## Retriever"
   ]
  },
  {
   "cell_type": "code",
   "execution_count": 9,
   "id": "00e1e91d",
   "metadata": {},
   "outputs": [],
   "source": [
    "# Interface\n",
    "from langchain_core.retrievers import BaseRetriever\n",
    "\n",
    "# Vector store-backed retriever\n",
    "from langchain_core.vectorstores import VectorStoreRetriever"
   ]
  },
  {
   "cell_type": "markdown",
   "id": "842c600b",
   "metadata": {},
   "source": [
    "## Runnable"
   ]
  },
  {
   "cell_type": "code",
   "execution_count": 10,
   "id": "bc34aa1f",
   "metadata": {},
   "outputs": [],
   "source": [
    "# Interface\n",
    "from langchain_core.runnables import Runnable\n",
    "\n",
    "from langchain_core.runnables import RunnableLambda\n",
    "from langchain_core.runnables import RunnablePassthrough\n",
    "from langchain_core.runnables import RunnableParallel"
   ]
  },
  {
   "cell_type": "markdown",
   "id": "6df50254",
   "metadata": {},
   "source": [
    "## Chain"
   ]
  },
  {
   "cell_type": "code",
   "execution_count": 11,
   "id": "bdb1677c",
   "metadata": {},
   "outputs": [],
   "source": [
    "# Modern style: compose with LCEL (runnables + | operator) — no extra import needed.\n",
    "\n",
    "from langchain.chains import LLMChain # Legacy"
   ]
  },
  {
   "cell_type": "markdown",
   "id": "23dc78d4",
   "metadata": {},
   "source": [
    "## Chat Model"
   ]
  },
  {
   "cell_type": "code",
   "execution_count": 12,
   "id": "3be2a6cd",
   "metadata": {},
   "outputs": [],
   "source": [
    "# Vendor chat models\n",
    "from langchain_openai import ChatOpenAI              # OpenAI\n",
    "from langchain_anthropic import ChatAnthropic        # Anthropic"
   ]
  },
  {
   "cell_type": "markdown",
   "id": "fd49ada9",
   "metadata": {},
   "source": [
    "## Output Parser"
   ]
  },
  {
   "cell_type": "code",
   "execution_count": 13,
   "id": "713a4131",
   "metadata": {},
   "outputs": [],
   "source": [
    "from langchain_core.output_parsers import StrOutputParser\n",
    "from langchain_core.output_parsers import PydanticOutputParser"
   ]
  },
  {
   "cell_type": "markdown",
   "id": "1597bba9",
   "metadata": {},
   "source": [
    "## Memory"
   ]
  },
  {
   "cell_type": "code",
   "execution_count": 14,
   "id": "de75d627",
   "metadata": {},
   "outputs": [],
   "source": [
    "# Interface\n",
    "from langchain_core.chat_history import BaseChatMessageHistory\n",
    "\n",
    "# Various Types of Chat History\n",
    "from langchain_community.chat_message_histories import FileChatMessageHistory\n",
    "from langchain_community.chat_message_histories import RedisChatMessageHistory\n",
    "from langchain_core.runnables.history import RunnableWithMessageHistory"
   ]
  }
 ],
 "metadata": {
  "kernelspec": {
   "display_name": "Python 3 (ipykernel)",
   "language": "python",
   "name": "python3"
  },
  "language_info": {
   "codemirror_mode": {
    "name": "ipython",
    "version": 3
   },
   "file_extension": ".py",
   "mimetype": "text/x-python",
   "name": "python",
   "nbconvert_exporter": "python",
   "pygments_lexer": "ipython3",
   "version": "3.12.11"
  }
 },
 "nbformat": 4,
 "nbformat_minor": 5
}
