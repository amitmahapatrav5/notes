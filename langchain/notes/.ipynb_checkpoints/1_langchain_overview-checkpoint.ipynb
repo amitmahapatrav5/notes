{
 "cells": [
  {
   "cell_type": "markdown",
   "id": "b2b6170a",
   "metadata": {},
   "source": [
    "# LangChain Overview\n",
    "\n",
    "\n",
    "\n",
    "## Why do we need LangChain\n",
    "\n",
    "1. Building a GenAI based application requires lots of component(give the Document Chatbot example here). Writing code from scratch for this is very difficult and cumbersome, because there are lots of moving parts(Document Loader, Splitter, Embedding Model and LLM). Langchain framework provides all the components which one might need to build a GenAI based application. Only thing you have to do is configure these components.\n",
    "2. Running an instance of LLM in server is a challenging and costly thing. So, companies which has created their LLM, has built an API around it and consumer can use the api to interact with LLM. But if LLM changes, we need to rewrite the code again for the component which is interacting with the LLM. Langchain provides a unified way using which, even though, we have a need to change the LLM provider, we need to make very minimal change in the code.\n",
    "\n",
    "## Benefits of LangChain\n",
    "\n",
    "- Concept of Chain\n",
    "- Model Agnostic Development\n",
    "- Complete Ecosystem (various types of Document Loader, Splitter, Vector DB Wrapper, LLM Wrapper etc)\n",
    "- Memory and State Handling (Langchain provides the concept of memory)\n",
    "\n",
    "## Alternatives of Langchain\n",
    "\n",
    "- LlamaIndex\n",
    "- Haystack"
   ]
  }
 ],
 "metadata": {},
 "nbformat": 4,
 "nbformat_minor": 5
}
