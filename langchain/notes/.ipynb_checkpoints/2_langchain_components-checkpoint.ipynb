{
 "cells": [
  {
   "cell_type": "markdown",
   "id": "b464c4de",
   "metadata": {},
   "source": [
    "# LangChain Components"
   ]
  },
  {
   "cell_type": "markdown",
   "id": "634a36bd-36d8-4c6f-8eea-bf318c06d37d",
   "metadata": {},
   "source": [
    "## Important Components of LangChain\n",
    "\n",
    "1. Model\n",
    "2. Prompts\n",
    "3. Chains\n",
    "4. Memory\n",
    "5. Indexes\n",
    "6. Agents"
   ]
  },
  {
   "cell_type": "markdown",
   "id": "46ee2368-28fd-41e8-8e10-d87330b62f31",
   "metadata": {},
   "source": [
    "## Model\n",
    "\n",
    "We interact with LLMs via the API built by the LLM provider. Different provider has different API structure. So consumption codebase is different. Standardization became a challenge."
   ]
  },
  {
   "cell_type": "markdown",
   "id": "456c24ba-9eee-48b3-b151-82968b22d525",
   "metadata": {},
   "source": [
    "**Code to connect with OpenAI's LLM**"
   ]
  },
  {
   "cell_type": "code",
   "execution_count": 10,
   "id": "76e97b06",
   "metadata": {},
   "outputs": [
    {
     "name": "stdout",
     "output_type": "stream",
     "text": [
      "- LlamaIndex  \n",
      "- Haystack  \n",
      "- Semantic Kernel\n"
     ]
    }
   ],
   "source": [
    "from dotenv import load_dotenv\n",
    "from openai import OpenAI\n",
    "\n",
    "\n",
    "load_dotenv()\n",
    "\n",
    "client = OpenAI(\n",
    "    base_url=\"https://openrouter.ai/api/v1\",\n",
    ")\n",
    "\n",
    "response = client.responses.create(\n",
    "    model=\"openai/gpt-oss-20b:free\",\n",
    "    input=\"Gimme just the name of top 3 alternatives of langchain.\"\n",
    ")\n",
    "\n",
    "print(response.output_text)"
   ]
  },
  {
   "cell_type": "markdown",
   "id": "dbf95e09-a9d1-4c16-9ced-52f976d04e75",
   "metadata": {},
   "source": [
    "**Code to connect with Anthropic's LLM**"
   ]
  },
  {
   "cell_type": "code",
   "execution_count": 11,
   "id": "aaaa2f70",
   "metadata": {},
   "outputs": [],
   "source": [
    "# # https://docs.claude.com/en/docs/get-started#python\n",
    "# import anthropic\n",
    "\n",
    "# client = anthropic.Anthropic()\n",
    "\n",
    "# message = client.messages.create(\n",
    "#     model=\"claude-sonnet-4-5\",\n",
    "#     max_tokens=1000,\n",
    "#     messages=[\n",
    "#         {\n",
    "#             \"role\": \"user\",\n",
    "#             \"content\": \"Gimme just the name of top 3 alternatives of langchain.\"\n",
    "#         }\n",
    "#     ]\n",
    "# )\n",
    "# message.content"
   ]
  },
  {
   "cell_type": "markdown",
   "id": "32355b01",
   "metadata": {},
   "source": [
    "### LangChain is used to connect with LLMs\n",
    "\n",
    "**Ref: https://python.langchain.com/docs/integrations/chat/**"
   ]
  },
  {
   "cell_type": "code",
   "execution_count": 12,
   "id": "8b27fc96",
   "metadata": {},
   "outputs": [
    {
     "data": {
      "text/plain": [
       "'LlamaIndex, PromptLayer, RAGKit'"
      ]
     },
     "execution_count": 12,
     "metadata": {},
     "output_type": "execute_result"
    }
   ],
   "source": [
    "from langchain_openai import ChatOpenAI\n",
    "from dotenv import load_dotenv\n",
    "\n",
    "load_dotenv()\n",
    "\n",
    "model = ChatOpenAI(\n",
    "    base_url='https://openrouter.ai/api/v1',\n",
    "    model='openai/gpt-oss-20b:free'\n",
    ")\n",
    "response = model.invoke('Gimme just the name of top 3 alternatives of langchain.')\n",
    "response.content"
   ]
  },
  {
   "cell_type": "code",
   "execution_count": 13,
   "id": "67d5f709",
   "metadata": {},
   "outputs": [],
   "source": [
    "# from langchain_openai import ChatAnthropic\n",
    "# from dotenv import load_dotenv\n",
    "\n",
    "# load_dotenv()\n",
    "\n",
    "# model = ChatAnthropic(model='claude-sonnet-4-5')\n",
    "\n",
    "# result = model.invoke('Gimme just the name of top 3 alternatives of langchain.')\n",
    "\n",
    "# result.content"
   ]
  },
  {
   "cell_type": "markdown",
   "id": "a66260bd",
   "metadata": {},
   "source": [
    "### Types of Langchain Language Models\n",
    "\n",
    "1. Language Model (Text In -> Text Out)\n",
    "   - LLM\n",
    "   - ChatModel\n",
    "2. Embedding Model (Text In -> Vector Out)"
   ]
  },
  {
   "cell_type": "markdown",
   "id": "3008ca74-94ab-4b29-8414-06ca43601e1b",
   "metadata": {},
   "source": [
    "## Prompts\n",
    "\n",
    "- The input that we are providing to LLM.\n",
    "- The response we get from LLM highly depends on our prompt. There is a field of study, Prompt Engineering.\n",
    "- So Langchain team created a component using which u can use various prompting technique that can be sent to LLM.\n",
    "  - PromptTemplate\n",
    "  - ChatPromptTemplate\n",
    "  - FewShotPromptTemplate"
   ]
  },
  {
   "cell_type": "markdown",
   "id": "c36f3674-b9d2-4e70-a31f-3e273f24fb9d",
   "metadata": {},
   "source": [
    "## Chains\n",
    "\n",
    "- You can build pipelines using this Chains Component\n",
    "- It does the heavy-lifting of getting the output from previous component and sending it to next.\n",
    "- Using chains, you can make Sequential, Conditional and Parallel Chains"
   ]
  },
  {
   "cell_type": "markdown",
   "id": "5c439035-9e5a-44a1-aebd-a9e66a14a25f",
   "metadata": {},
   "source": [
    "## Memory\n",
    "\n",
    "- LLM API Calls are Stateless(An example of this)\n",
    "- Various Types of Memory Component are there\n",
    "  - ConversationalBufferMemory\n",
    "  - ConversationBufferWindowMemory\n",
    "  - Summarizer-Based Memory\n",
    "  - Custom Memory"
   ]
  },
  {
   "cell_type": "markdown",
   "id": "8465b1aa-6ec6-4141-811c-a65bf6a67c67",
   "metadata": {},
   "source": [
    "## Indexes\n",
    "\n",
    "- Used to connect LLM to External Knowledge\n",
    "- Made up of 4 main Components\n",
    "  1. **Document Loader**\n",
    "  2. **Text Splitter**\n",
    "  3. **Vector Store**\n",
    "  4. **Retriever**"
   ]
  },
  {
   "cell_type": "markdown",
   "id": "511deb72-7d45-429a-8792-90bb1d615a33",
   "metadata": {},
   "source": [
    "## Agents\n",
    "\n",
    "- LLMs have 2 USP(NLU + Text Generation) but cannot perform any action\n",
    "- An AI Agent, can do what LLMs can do + Perform Actions (API Call mainly) = (Reasoning Capability + Tools Calling)\n",
    "- But I won't recommend to use LangChain to build Agents. Because it's not scalable and you have to write lots of glue code. Hence we have LangGraph."
   ]
  }
 ],
 "metadata": {
  "kernelspec": {
   "display_name": "Python 3 (ipykernel)",
   "language": "python",
   "name": "python3"
  },
  "language_info": {
   "codemirror_mode": {
    "name": "ipython",
    "version": 3
   },
   "file_extension": ".py",
   "mimetype": "text/x-python",
   "name": "python",
   "nbconvert_exporter": "python",
   "pygments_lexer": "ipython3",
   "version": "3.12.11"
  }
 },
 "nbformat": 4,
 "nbformat_minor": 5
}
