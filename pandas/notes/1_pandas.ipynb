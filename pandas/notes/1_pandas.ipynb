{
 "cells": [
  {
   "cell_type": "markdown",
   "id": "28acc038-0826-4b34-9c73-838f6ceb7fd0",
   "metadata": {},
   "source": [
    "# Pandas"
   ]
  },
  {
   "cell_type": "markdown",
   "id": "2c4ea211-1cf9-4d1d-be57-292064d0f555",
   "metadata": {},
   "source": [
    "- Pandas is based on NumPy\n",
    "- Main 3 things in pandas are `Series`, `Dataframe` and `Index`\n",
    "- Series is 1 Dimensional - One Excel Coulmn\n",
    "- Dataframe is 2 Dimensional - One Excel Sheet - *(basically collection of Series)*\n",
    "- Index is used in both `Series` and `Dataframe` objects"
   ]
  }
 ],
 "metadata": {
  "kernelspec": {
   "display_name": "Python 3 (ipykernel)",
   "language": "python",
   "name": "python3"
  },
  "language_info": {
   "codemirror_mode": {
    "name": "ipython",
    "version": 3
   },
   "file_extension": ".py",
   "mimetype": "text/x-python",
   "name": "python",
   "nbconvert_exporter": "python",
   "pygments_lexer": "ipython3",
   "version": "3.12.11"
  }
 },
 "nbformat": 4,
 "nbformat_minor": 5
}
