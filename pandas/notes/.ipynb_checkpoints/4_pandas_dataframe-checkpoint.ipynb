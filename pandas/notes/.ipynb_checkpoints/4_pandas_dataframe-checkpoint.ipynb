{
 "cells": [
  {
   "cell_type": "markdown",
   "id": "7b324776-cba3-44c9-b3cc-9be200b294c0",
   "metadata": {},
   "source": [
    "# Pandas Dataframe Object"
   ]
  },
  {
   "cell_type": "markdown",
   "id": "a688aa59-2541-44f8-80c0-3d3cc41aeeb6",
   "metadata": {},
   "source": [
    "- Series is like a column of an excel sheet [1D]. Dataframe is like the sheet in an excel sheet [2D]\n",
    "- Series has 2 types of index(Implicit and Explicit). Similarly Dataframe has 2 types of index in each dimension.\n",
    "- Basically if you pick a Single Row or a Single Column in a Dataframe, it will be a Series Object.\n",
    "- Now Let's first understand the CRUD Operation in a pandas Dataframe."
   ]
  },
  {
   "cell_type": "raw",
   "id": "939def7e-2ab1-4aee-9d21-195dd5371e65",
   "metadata": {},
   "source": [
    "      0   1   2   3   4  <= Implicit Index\n",
    "      C1  C2  C3  C4  C5 <= Explicit Index\n",
    "0 R1  11  12  13  14  15\n",
    "1 R2  21  22  23  24  25\n",
    "2 R3  31  32  33  34  35\n",
    "3 R4  41  42  43  44  45\n",
    "4 R5  51  52  53  54  55\n",
    "^ ^ Explicit Index\n",
    "| Implicit Index"
   ]
  },
  {
   "cell_type": "markdown",
   "id": "3a02a66b-c45b-498e-bc43-21a015425658",
   "metadata": {},
   "source": [
    "## Create DataFrame"
   ]
  },
  {
   "cell_type": "markdown",
   "id": "2fdf30e3-be6d-4d2b-8cdc-2f60b61b4420",
   "metadata": {},
   "source": [
    "- It’s more important to learn how to use a DataFrame (filtering, grouping, merging, reshaping) than to deeply study how pandas structures data during creation. I initially was more concerned about once we give a data, how pandas is choosing how to form the dataframe.\n",
    "- I have experimented with **list of list**, **list of dictionary**, **list of series**, **dict of list**, **dict of dict**, **dict or series**.\n",
    "- But, it is not worth learning. One example that made me realize that. See below."
   ]
  },
  {
   "cell_type": "code",
   "execution_count": 22,
   "id": "3e132b30-9cf7-4f49-a37f-f2055e267c80",
   "metadata": {},
   "outputs": [
    {
     "data": {
      "text/html": [
       "<div>\n",
       "<style scoped>\n",
       "    .dataframe tbody tr th:only-of-type {\n",
       "        vertical-align: middle;\n",
       "    }\n",
       "\n",
       "    .dataframe tbody tr th {\n",
       "        vertical-align: top;\n",
       "    }\n",
       "\n",
       "    .dataframe thead th {\n",
       "        text-align: right;\n",
       "    }\n",
       "</style>\n",
       "<table border=\"1\" class=\"dataframe\">\n",
       "  <thead>\n",
       "    <tr style=\"text-align: right;\">\n",
       "      <th></th>\n",
       "      <th>food</th>\n",
       "      <th>dairy</th>\n",
       "      <th>travel</th>\n",
       "      <th>communication</th>\n",
       "      <th>household</th>\n",
       "    </tr>\n",
       "  </thead>\n",
       "  <tbody>\n",
       "    <tr>\n",
       "      <th>0</th>\n",
       "      <td>5000.0</td>\n",
       "      <td>1000.0</td>\n",
       "      <td>NaN</td>\n",
       "      <td>NaN</td>\n",
       "      <td>NaN</td>\n",
       "    </tr>\n",
       "    <tr>\n",
       "      <th>1</th>\n",
       "      <td>NaN</td>\n",
       "      <td>NaN</td>\n",
       "      <td>1000.0</td>\n",
       "      <td>NaN</td>\n",
       "      <td>NaN</td>\n",
       "    </tr>\n",
       "    <tr>\n",
       "      <th>2</th>\n",
       "      <td>NaN</td>\n",
       "      <td>NaN</td>\n",
       "      <td>NaN</td>\n",
       "      <td>2000.0</td>\n",
       "      <td>NaN</td>\n",
       "    </tr>\n",
       "    <tr>\n",
       "      <th>3</th>\n",
       "      <td>NaN</td>\n",
       "      <td>NaN</td>\n",
       "      <td>NaN</td>\n",
       "      <td>NaN</td>\n",
       "      <td>10000.0</td>\n",
       "    </tr>\n",
       "  </tbody>\n",
       "</table>\n",
       "</div>"
      ],
      "text/plain": [
       "     food   dairy  travel  communication  household\n",
       "0  5000.0  1000.0     NaN            NaN        NaN\n",
       "1     NaN     NaN  1000.0            NaN        NaN\n",
       "2     NaN     NaN     NaN         2000.0        NaN\n",
       "3     NaN     NaN     NaN            NaN    10000.0"
      ]
     },
     "execution_count": 22,
     "metadata": {},
     "output_type": "execute_result"
    }
   ],
   "source": [
    "# Example that made me realise why it's not worth learning \"how pandas create the dataframe\"\n",
    "\n",
    "import pandas as pd\n",
    "\n",
    "df = pd.DataFrame(data=[ \n",
    "    { 'food' : 5000, 'dairy': 1000}, \n",
    "    { 'travel' : 1000 }, \n",
    "    { 'communication' : 2000 }, \n",
    "    { 'household' : 10000 } ]\n",
    ") \n",
    "\n",
    "df"
   ]
  },
  {
   "cell_type": "markdown",
   "id": "0e54cf80-fcff-4ce5-8d8f-a5c9a26504a0",
   "metadata": {},
   "source": [
    "- Knowing construction logic is only moderately useful - mainly for debugging and converting raw inputs.\n",
    "- The data parameter in pd.DataFrame() accepts any 2D (tabular) structure.\n",
    "- If data can be interpreted as rows*columns, pandas can form a valid DataFrame.\n",
    "    - 1D data → auto-converted to a single-column DataFrame.\n",
    "    - 2D data → valid and structured properly.\n",
    "    - 3D+ data → raises ValueError: Must pass 2-d input.\n",
    "- pandas.DataFrame() is designed for 2D tabular data only.\n",
    "- Anything higher-dimensional must be flattened or reduced before conversion."
   ]
  },
  {
   "cell_type": "code",
   "execution_count": 35,
   "id": "f65742ee-715a-4007-a0e3-c434a7f20601",
   "metadata": {},
   "outputs": [
    {
     "name": "stdout",
     "output_type": "stream",
     "text": [
      "Must pass 2-d input. shape=(3, 3, 3)\n"
     ]
    }
   ],
   "source": [
    "import pandas as pd\n",
    "import numpy as np\n",
    "\n",
    "\n",
    "arr = np.arange(27).reshape(3,3,3)\n",
    "try:\n",
    "    pd.DataFrame(arr)\n",
    "except ValueError as ex:\n",
    "    print(ex) # Must pass 2-d input. shape=(3, 3, 3)"
   ]
  },
  {
   "cell_type": "markdown",
   "id": "21c632bd-6c6b-46db-8870-7aff852f4817",
   "metadata": {},
   "source": [
    "- So, if I ever need to create a dummy dataframe, just use the below way."
   ]
  },
  {
   "cell_type": "code",
   "execution_count": 36,
   "id": "a1b4c9bf-a271-4878-87db-b9d1b22102b1",
   "metadata": {},
   "outputs": [
    {
     "name": "stdout",
     "output_type": "stream",
     "text": [
      "        Category  Amount\n",
      "0           Food    5000\n",
      "1         Travel    1000\n",
      "2  Communication    2000\n",
      "3      Household   10000\n"
     ]
    }
   ],
   "source": [
    "import pandas as pd\n",
    "\n",
    "data = {\n",
    "    'Category': ['Food', 'Travel', 'Communication', 'Household'],\n",
    "    'Amount': [5000, 1000, 2000, 10000]\n",
    "}\n",
    "\n",
    "df = pd.DataFrame(data)\n",
    "\n",
    "print(df)"
   ]
  },
  {
   "cell_type": "markdown",
   "id": "68b7a440-c0c5-4191-aa8e-4bcc4d64ace8",
   "metadata": {},
   "source": [
    "- The most important way to learn the creation of Dataframe is via external ways and among them csv and excel is the basics to start.\n",
    "- Params for reading data from csv and excel is pretty much same. I need to remember mainly 2 params(providing filepath and header row). filepath is a positional and header row selection is a keyword only. Once the data is imported, I can clean it afterwords, no need to clean it while importing.\n",
    "- Note that for importing data from an excel file, pandas internally use a python package called openpyxl. So I have to install that."
   ]
  },
  {
   "cell_type": "code",
   "execution_count": 68,
   "id": "f2e529b1-58ba-4282-ab20-a9a16b9589d1",
   "metadata": {},
   "outputs": [
    {
     "data": {
      "text/html": [
       "<div>\n",
       "<style scoped>\n",
       "    .dataframe tbody tr th:only-of-type {\n",
       "        vertical-align: middle;\n",
       "    }\n",
       "\n",
       "    .dataframe tbody tr th {\n",
       "        vertical-align: top;\n",
       "    }\n",
       "\n",
       "    .dataframe thead th {\n",
       "        text-align: right;\n",
       "    }\n",
       "</style>\n",
       "<table border=\"1\" class=\"dataframe\">\n",
       "  <thead>\n",
       "    <tr style=\"text-align: right;\">\n",
       "      <th></th>\n",
       "      <th>0</th>\n",
       "      <th>1</th>\n",
       "      <th>2</th>\n",
       "    </tr>\n",
       "  </thead>\n",
       "  <tbody>\n",
       "    <tr>\n",
       "      <th>0</th>\n",
       "      <td>2023-11-01</td>\n",
       "      <td>True</td>\n",
       "      <td>12:40:00</td>\n",
       "    </tr>\n",
       "    <tr>\n",
       "      <th>1</th>\n",
       "      <td>2023-11-02</td>\n",
       "      <td>True</td>\n",
       "      <td>12:36:00</td>\n",
       "    </tr>\n",
       "    <tr>\n",
       "      <th>2</th>\n",
       "      <td>2023-11-03</td>\n",
       "      <td>True</td>\n",
       "      <td>12:56:00</td>\n",
       "    </tr>\n",
       "    <tr>\n",
       "      <th>3</th>\n",
       "      <td>2023-11-04</td>\n",
       "      <td>True</td>\n",
       "      <td>12:01:00</td>\n",
       "    </tr>\n",
       "    <tr>\n",
       "      <th>4</th>\n",
       "      <td>2023-11-05</td>\n",
       "      <td>True</td>\n",
       "      <td>12:43:00</td>\n",
       "    </tr>\n",
       "    <tr>\n",
       "      <th>...</th>\n",
       "      <td>...</td>\n",
       "      <td>...</td>\n",
       "      <td>...</td>\n",
       "    </tr>\n",
       "    <tr>\n",
       "      <th>717</th>\n",
       "      <td>2025-10-18</td>\n",
       "      <td>True</td>\n",
       "      <td>10:51:00</td>\n",
       "    </tr>\n",
       "    <tr>\n",
       "      <th>718</th>\n",
       "      <td>2025-10-19</td>\n",
       "      <td>True</td>\n",
       "      <td>06:05:00</td>\n",
       "    </tr>\n",
       "    <tr>\n",
       "      <th>719</th>\n",
       "      <td>2025-10-20</td>\n",
       "      <td>True</td>\n",
       "      <td>11:12:00</td>\n",
       "    </tr>\n",
       "    <tr>\n",
       "      <th>720</th>\n",
       "      <td>2025-10-21</td>\n",
       "      <td>True</td>\n",
       "      <td>10:00:00</td>\n",
       "    </tr>\n",
       "    <tr>\n",
       "      <th>721</th>\n",
       "      <td>2025-10-22</td>\n",
       "      <td>True</td>\n",
       "      <td>10:56:00</td>\n",
       "    </tr>\n",
       "  </tbody>\n",
       "</table>\n",
       "<p>722 rows × 3 columns</p>\n",
       "</div>"
      ],
      "text/plain": [
       "              0     1         2\n",
       "0    2023-11-01  True  12:40:00\n",
       "1    2023-11-02  True  12:36:00\n",
       "2    2023-11-03  True  12:56:00\n",
       "3    2023-11-04  True  12:01:00\n",
       "4    2023-11-05  True  12:43:00\n",
       "..          ...   ...       ...\n",
       "717  2025-10-18  True  10:51:00\n",
       "718  2025-10-19  True  06:05:00\n",
       "719  2025-10-20  True  11:12:00\n",
       "720  2025-10-21  True  10:00:00\n",
       "721  2025-10-22  True  10:56:00\n",
       "\n",
       "[722 rows x 3 columns]"
      ]
     },
     "execution_count": 68,
     "metadata": {},
     "output_type": "execute_result"
    }
   ],
   "source": [
    "from datetime import datetime\n",
    "import pandas as pd\n",
    "\n",
    "df = pd.read_csv(\n",
    "    'carpe_diem.csv',\n",
    "    sep=',',\n",
    "    header=0,\n",
    "    usecols=[0,1,2],\n",
    "    names={0: 'Date', 1:'Validity', 2:'Time'},\n",
    "    converters={\n",
    "        0: lambda date : datetime.strptime(date, '%Y/%m/%d').date(),\n",
    "        1: lambda entry: True if entry=='Filled' else False,\n",
    "        2: lambda dt: datetime.strptime(dt, '%B %d, %Y %I:%M %p').time()\n",
    "    }\n",
    ")\n",
    "df"
   ]
  },
  {
   "cell_type": "code",
   "execution_count": 64,
   "id": "7527738e-aa55-45ce-8f0f-2013d81722e0",
   "metadata": {},
   "outputs": [
    {
     "data": {
      "text/html": [
       "<div>\n",
       "<style scoped>\n",
       "    .dataframe tbody tr th:only-of-type {\n",
       "        vertical-align: middle;\n",
       "    }\n",
       "\n",
       "    .dataframe tbody tr th {\n",
       "        vertical-align: top;\n",
       "    }\n",
       "\n",
       "    .dataframe thead th {\n",
       "        text-align: right;\n",
       "    }\n",
       "</style>\n",
       "<table border=\"1\" class=\"dataframe\">\n",
       "  <thead>\n",
       "    <tr style=\"text-align: right;\">\n",
       "      <th></th>\n",
       "      <th>0</th>\n",
       "      <th>1</th>\n",
       "      <th>2</th>\n",
       "    </tr>\n",
       "  </thead>\n",
       "  <tbody>\n",
       "    <tr>\n",
       "      <th>0</th>\n",
       "      <td>2023-11-01</td>\n",
       "      <td>True</td>\n",
       "      <td>12:40:00</td>\n",
       "    </tr>\n",
       "    <tr>\n",
       "      <th>1</th>\n",
       "      <td>2023-11-02</td>\n",
       "      <td>True</td>\n",
       "      <td>12:36:00</td>\n",
       "    </tr>\n",
       "    <tr>\n",
       "      <th>2</th>\n",
       "      <td>2023-11-03</td>\n",
       "      <td>True</td>\n",
       "      <td>12:56:00</td>\n",
       "    </tr>\n",
       "    <tr>\n",
       "      <th>3</th>\n",
       "      <td>2023-11-04</td>\n",
       "      <td>True</td>\n",
       "      <td>12:01:00</td>\n",
       "    </tr>\n",
       "    <tr>\n",
       "      <th>4</th>\n",
       "      <td>2023-11-05</td>\n",
       "      <td>True</td>\n",
       "      <td>12:43:00</td>\n",
       "    </tr>\n",
       "    <tr>\n",
       "      <th>...</th>\n",
       "      <td>...</td>\n",
       "      <td>...</td>\n",
       "      <td>...</td>\n",
       "    </tr>\n",
       "    <tr>\n",
       "      <th>717</th>\n",
       "      <td>2025-10-18</td>\n",
       "      <td>True</td>\n",
       "      <td>10:51:00</td>\n",
       "    </tr>\n",
       "    <tr>\n",
       "      <th>718</th>\n",
       "      <td>2025-10-19</td>\n",
       "      <td>True</td>\n",
       "      <td>06:05:00</td>\n",
       "    </tr>\n",
       "    <tr>\n",
       "      <th>719</th>\n",
       "      <td>2025-10-20</td>\n",
       "      <td>True</td>\n",
       "      <td>11:12:00</td>\n",
       "    </tr>\n",
       "    <tr>\n",
       "      <th>720</th>\n",
       "      <td>2025-10-21</td>\n",
       "      <td>True</td>\n",
       "      <td>10:00:00</td>\n",
       "    </tr>\n",
       "    <tr>\n",
       "      <th>721</th>\n",
       "      <td>2025-10-22</td>\n",
       "      <td>True</td>\n",
       "      <td>10:56:00</td>\n",
       "    </tr>\n",
       "  </tbody>\n",
       "</table>\n",
       "<p>722 rows × 3 columns</p>\n",
       "</div>"
      ],
      "text/plain": [
       "              0     1         2\n",
       "0    2023-11-01  True  12:40:00\n",
       "1    2023-11-02  True  12:36:00\n",
       "2    2023-11-03  True  12:56:00\n",
       "3    2023-11-04  True  12:01:00\n",
       "4    2023-11-05  True  12:43:00\n",
       "..          ...   ...       ...\n",
       "717  2025-10-18  True  10:51:00\n",
       "718  2025-10-19  True  06:05:00\n",
       "719  2025-10-20  True  11:12:00\n",
       "720  2025-10-21  True  10:00:00\n",
       "721  2025-10-22  True  10:56:00\n",
       "\n",
       "[722 rows x 3 columns]"
      ]
     },
     "execution_count": 64,
     "metadata": {},
     "output_type": "execute_result"
    }
   ],
   "source": [
    "from datetime import datetime\n",
    "import pandas as pd\n",
    "\n",
    "df = pd.read_excel(\n",
    "    'carpe_diem.xlsx',\n",
    "    header=0,\n",
    "    usecols=[0,1,2],\n",
    "    names={0: 'Date', 1:'Validity', 2:'Time'},\n",
    "    converters={\n",
    "        0: lambda date : date.date(),\n",
    "        1: lambda entry: True if entry=='Filled' else False,\n",
    "        2: lambda dt: dt.time()\n",
    "    }\n",
    ")\n",
    "\n",
    "df"
   ]
  },
  {
   "cell_type": "markdown",
   "id": "e51692a4-94d9-47af-aeca-d1c69adb9427",
   "metadata": {},
   "source": [
    "## Read DataFrame"
   ]
  },
  {
   "cell_type": "markdown",
   "id": "9a86ff01-e3c7-40f5-956e-9063fc2c18f6",
   "metadata": {},
   "source": [
    "- When I learned about accessing a cell in pandas Series, I needed an index of that cell. Now it can be an explicit or implicit.\n",
    "- When it comes to pandas DataFrame, here also I need index to locate a cell and that index can be explicit or implicit. The only thing is, I need 2 indices as DataFrame is 2D.\n",
    "- And the good thing is because DataFrame is 2D, I can access:\n",
    "  * A specific cell\n",
    "  * An entire column - This will be a Series by defination\n",
    "  * An entire row - This will be a Series by defination\n",
    "- Now Pandas Team wanted a simple syntax, so they made `df['column']` that return a Series representing that single column. Because usually I have also observed that while working on an excel sheet, sometimes I need to hold the entire column and perform some task.\n",
    "- Then they saw that If I chain another `[]` after that, like `df['column'][row]`, I can target a specific row. It technically works - but it’s not how pandas team meant it to be used. This is called **chained indexing**, and pandas team **warns against it**, because it can create copies instead of views and lead to unexpected results. So, even though `df['column'][row]` might give me the value I want, it’s not reliable for modifying data.\n",
    "- To make this process clean and powerful, pandas introduced two dedicated indexers:\n",
    "    1. `df.iloc[row_index, column_index]`\n",
    "    2. `df.loc[row_label, column_label]`\n",
    "- And yes, both `.iloc[]` and `.loc[]` also support:\n",
    "    1. **Slicing**\n",
    "    2. **Masking**\n",
    "    3. **Fancy indexing**\n",
    "- So now, in total, these are the valid and safe ways to access data in pandas:\n",
    "    * `df['column']` → access a column (returns Series)\n",
    "    * `df[['column 1', 'column 2']]` → access multiple columns (returns DataFrame) → I think of it as fancy indexing.\n",
    "    * `df.iloc[row, column]`\n",
    "    * `df.loc[row, column]`\n",
    "    * A special sytax\n",
    "- So I know that `df[]` syntax returns column(s) given that inside `[]` what we provide. If a single string, then the column and if list of strings, then provides a df. But we can pass another thing as well, that is a boolean series(result of something like `df['column']>10`). And the resulting boolean series gets ANDed with the pandas row index and returns the filtered rows where the boolean index values was true. So this special syntax filters rows instead of returning a column.\n",
    "- So finally here is the syantax that I will find\n",
    "    1. `df['column']` / `df[['column 1', 'column 2']]`\n",
    "    2. `df.iloc[row, column]`\n",
    "    3. `df.loc[row, column]`\n",
    "    4. `df[boolean series]`\n",
    "- Just a little more tiny thing, How do I get index in pandas dataframe? in series I was getting it by `series.index`. And this index that we get is ofcourse always explicit. In case of DataFrame, because there are 2 indices, we have 2 attributes which ofcourse returns the explicit index.\n",
    "    1. df.index - gives the row index\n",
    "    2. df.columns - gives the column index"
   ]
  },
  {
   "cell_type": "markdown",
   "id": "b8b35d26-183c-46aa-94a6-b7f2beab940c",
   "metadata": {},
   "source": [
    "## Clean DataFrame"
   ]
  },
  {
   "cell_type": "markdown",
   "id": "b31da391-7265-4ca0-96fe-2a3b10733779",
   "metadata": {},
   "source": [
    "- When I said clean a Dataframe, I meant doing some operation on dataframe so that it will be ready to use.\n",
    "- This cleaning activity I usually find happens in 2 sense.\n",
    "    1. Schema Cleaning\n",
    "    2. Data Cleaning\n",
    "- Schema Cleaning can be something like\n",
    "    - Maybe while importing, some blank or unwanted columns were included - **Drop Those Columns**\n",
    "        - `df = df.drop(columns=['Column 1', 'Column 2'])`\n",
    "    - Maybe some column names don’t correctly describe the data - **Rename Columns**\n",
    "        - `df = df.rename(columns={'Column 1 Old' : 'Column 1 New', 'Column 2 Old':'Column 2 New'})`\n",
    "    - Maybe I will be using a particular column for searching, but pandas has provided default RangeIndex - **Set Those Column as Index**\n",
    "        - `df = df.set_index('Column Name')`\n",
    "- Data Cleaning can be something like\n",
    "    - Maybe I want all the string/text column data to be in lower case or upper case - **Perform String Operation**\n",
    "    - Maybe a column has boolean-like values (True/False, Yes/No, 0/1), but pandas didn’t infer them as bool - **Convert Those Columns**\n",
    "    - Maybe a column has numeric values, but pandas did't infer them as numeric - **Convert Those Columns**\n",
    "    - Maybe a column has datetime values, but pandas did't infer them as datetime - **Convert Those Columns**\n",
    "    - Maybe a column has categorical values, but pandas did't infer them as categorical - **Convert Those Columns**\n",
    "    - Maybe in a column, I see some rows have correct values and some has NaN values - **Drop Those Rows or Fill Those Cells**\n",
    "    - Maybe some rows are duplicates in the original data - **Drop Those Rows**\n",
    "    - Maybe I want certain numeric column value to be between 0-1. This often is done in Neural Network - **Normalize Those Columns**"
   ]
  },
  {
   "cell_type": "markdown",
   "id": "4b2e866f-d2a0-4d96-b9be-4562f03f160b",
   "metadata": {},
   "source": [
    "### Schema Cleaning"
   ]
  },
  {
   "cell_type": "markdown",
   "id": "e6efc415-1580-41b5-9027-ab9aae3eccc2",
   "metadata": {},
   "source": [
    "### Data Cleaning"
   ]
  },
  {
   "cell_type": "markdown",
   "id": "7f1e99f9-6162-4d48-bc0c-5e98f8fea28b",
   "metadata": {},
   "source": [
    "## Insight from DataFrame"
   ]
  }
 ],
 "metadata": {
  "kernelspec": {
   "display_name": "Python 3 (ipykernel)",
   "language": "python",
   "name": "python3"
  },
  "language_info": {
   "codemirror_mode": {
    "name": "ipython",
    "version": 3
   },
   "file_extension": ".py",
   "mimetype": "text/x-python",
   "name": "python",
   "nbconvert_exporter": "python",
   "pygments_lexer": "ipython3",
   "version": "3.12.11"
  }
 },
 "nbformat": 4,
 "nbformat_minor": 5
}
