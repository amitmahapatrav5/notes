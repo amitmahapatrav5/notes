{
 "cells": [
  {
   "cell_type": "markdown",
   "id": "7b324776-cba3-44c9-b3cc-9be200b294c0",
   "metadata": {},
   "source": [
    "# Pandas Index"
   ]
  },
  {
   "cell_type": "markdown",
   "id": "3358d18a-8886-46da-829b-68605aa05e92",
   "metadata": {},
   "source": [
    "**In world of Computer Science, 2 types of Index are there, One used in DB and One in Programming. What's the difference?**"
   ]
  },
  {
   "cell_type": "markdown",
   "id": "b371af8d-a557-4dad-a3c1-2506dc43136e",
   "metadata": {},
   "source": [
    "- Index, , is mainly used in 2 sense.\n",
    "    1. Indexing is used for optimized searching - This is basically a Database concept(BTree, B+Tree).\n",
    "    2. Indexing is used to access an element(`for i in range(len(nums))`) - This is a programming language concept.\n",
    "- Pandas Index object follows the programming language concept. So going forward, we will say this General Indexing concept as **Programming Index**.\n",
    "- This Programming Index, usually comes in 2 flavours.\n",
    "    1. **Implicit**. and this is also knows as **positional index**. This is something we see in Python List and Tuple\n",
    "    2. **Explicit** and this is also known as **key**. This is something we see in Python Dictionary.\n",
    "- The **Implicit** index is mainly *0,1,2,3,....n-1* and **Explicit** index is mainly a *hashable*. There is no specific Index class which is defined in python for this.\n",
    "- In pandas, we have mainly 2 important data structures, `Series` and `Dataframe` and to access an element in both of these data structures, pandas also takes the help of **Programming Index**. But only thing is, pandas team created a specific `Index` class. Because of that, they can support features like **slicing**, **masking** and **fancy indexing**."
   ]
  },
  {
   "cell_type": "markdown",
   "id": "e8f496ab-bab0-481f-a420-af194340bf1b",
   "metadata": {},
   "source": [
    "**Among Database Indexing and Programming Indexing, which one does NumPy Use**"
   ]
  },
  {
   "cell_type": "markdown",
   "id": "126625df-c94a-474c-85ab-f7d1d01f1efb",
   "metadata": {},
   "source": [
    "- Before learning about pandas `Index` I should have 1 thing in mind, that is numpy index.\n",
    "    - NumPy array's also use the concept of Programming Index to access an element in the array.\n",
    "    - NumPy team however did not create any specialized Index class though, they are working with 0,1,2,...n-1\n",
    "    - The most important thing is, among the 2 flavour of Programming Index(Implicit and Explicit), NumPy uses ONLY Implicit Index."
   ]
  },
  {
   "cell_type": "markdown",
   "id": "873d3c7d-1f03-4356-8009-737514a473ff",
   "metadata": {},
   "source": [
    "**How Numpy array is internally used by pandas Index class?**"
   ]
  },
  {
   "cell_type": "markdown",
   "id": "b07d5276-8a2d-40ce-8a2d-0c1554b8812b",
   "metadata": {},
   "source": [
    "- The reason we need to know about numpy indexing way is because, pandas Index depends heavily on NumPy array.\n",
    "- Internally, `pandas.Index` class holds a NumPy array and whatever iterable we get in the constructor in `data` param, they are kept in that NumPy array.\n",
    "- We can even see the params we have given to create the Index object using `._data` or `.values` properties. Don't use `._data` because it is for internal purpose, so might not return the labels always but `values` will always return the labels which we expect.\n",
    "- And becuse the NumPy array has implicit(or in other words positional) index, the iterable we get in the Index class constructor, can have duplicates."
   ]
  },
  {
   "cell_type": "code",
   "execution_count": 35,
   "id": "57c85875-7feb-4793-b881-5993e45235bc",
   "metadata": {},
   "outputs": [
    {
     "data": {
      "text/plain": [
       "(Index([1, 1, 2, 3, 4, 5], dtype='int64'),\n",
       " array([1, 1, 2, 3, 4, 5]),\n",
       " numpy.ndarray,\n",
       " array([1, 1, 2, 3, 4, 5]),\n",
       " numpy.ndarray)"
      ]
     },
     "execution_count": 35,
     "metadata": {},
     "output_type": "execute_result"
    }
   ],
   "source": [
    "import pandas as pd\n",
    "\n",
    "labels = [1,1,2,3,4,5] # It has duplicates\n",
    "idx = pd.Index(data=labels)\n",
    "idx, idx._data, type(idx._data), idx.values, type(idx.values)"
   ]
  },
  {
   "cell_type": "markdown",
   "id": "22050c59-1985-48d5-bb6b-9e0ddb56f465",
   "metadata": {},
   "source": [
    "**What kind of data can we pass in pandas.Index constructor and why?**"
   ]
  },
  {
   "cell_type": "markdown",
   "id": "50dee910-474a-4a6a-9ce7-c9d5dd5f1e2b",
   "metadata": {},
   "source": [
    "- Also one more thing we can extract from this info. Because pandas.Index object basically takes the data in `data` param and converts it into a numpy array, in the constructor of `pandas.Index` object we can pass anything which can be converted into a numpy array. That means, whatever can be passed in `numpy.array()` constructor, the same can be passed in `pandas.Index`"
   ]
  },
  {
   "cell_type": "markdown",
   "id": "286f3f93-760e-4895-826c-6a4f0d50ca53",
   "metadata": {},
   "source": [
    "**How can pandas.Index support Slicing, Masking and Fancy Indexing?**"
   ]
  },
  {
   "cell_type": "markdown",
   "id": "1f7d8b73-6764-4f69-a876-6ff66eeb48d3",
   "metadata": {},
   "source": [
    "- Numpy array supports 3 operations, Slicing, Masking and Fancy Indexing. And ofcource for the obvious same reason, *pandas.Index internally stores the given labels in a numpy array*, it supports all the above 3.\n",
    "- Few things to know about each of these operation\n",
    "    1. Slicing: When we slice, we get a view, not a new array\n",
    "    2. Masking: When we mask, we get a new array\n",
    "    3. Fancy Indexing: When we do fancy Indexing, we get a new array. Also, in fancy indexing, after the operation `arr%2==0` or `arr>2` we get a boolean kind of array and that is then numpy performs **AND** with the original array and returns the result. **I need some fact checking in this**"
   ]
  },
  {
   "cell_type": "markdown",
   "id": "29a5156c-01be-4866-bd93-3a2c8c96e5ae",
   "metadata": {},
   "source": [
    "**Slicing**"
   ]
  },
  {
   "cell_type": "code",
   "execution_count": 25,
   "id": "bc6144a2-fcf2-492f-97a4-adb467fa174a",
   "metadata": {},
   "outputs": [
    {
     "data": {
      "text/plain": [
       "(array([1, 2, 3]), array([0, 1, 2]), array([0, 2, 4]))"
      ]
     },
     "execution_count": 25,
     "metadata": {},
     "output_type": "execute_result"
    }
   ],
   "source": [
    "import numpy as np\n",
    "arr = np.array([0, 1, 2, 3, 4, 5])\n",
    "arr[1:4], arr[:3], arr[::2]"
   ]
  },
  {
   "cell_type": "code",
   "execution_count": 30,
   "id": "d71cad10-a886-45e2-84e1-9e7bebad7c81",
   "metadata": {},
   "outputs": [
    {
     "data": {
      "text/plain": [
       "(Index([1, 2, 3], dtype='int64'),\n",
       " Index([0, 1, 2], dtype='int64'),\n",
       " Index([0, 2, 4], dtype='int64'))"
      ]
     },
     "execution_count": 30,
     "metadata": {},
     "output_type": "execute_result"
    }
   ],
   "source": [
    "import pandas as pd\n",
    "idx = pd.Index([0, 1, 2, 3, 4, 5])\n",
    "idx[1:4], idx[:3], idx[::2]"
   ]
  },
  {
   "cell_type": "markdown",
   "id": "7c82eaef-dbd6-4634-bc7c-099950cae237",
   "metadata": {},
   "source": [
    "**Masking**"
   ]
  },
  {
   "cell_type": "code",
   "execution_count": 26,
   "id": "58f704f8-47e1-4128-a18f-59f7df6c09b6",
   "metadata": {},
   "outputs": [
    {
     "data": {
      "text/plain": [
       "array([30, 40, 50])"
      ]
     },
     "execution_count": 26,
     "metadata": {},
     "output_type": "execute_result"
    }
   ],
   "source": [
    "import numpy as np\n",
    "arr = np.array([10, 20, 30, 40, 50])\n",
    "arr[[2,3,4]]"
   ]
  },
  {
   "cell_type": "code",
   "execution_count": 31,
   "id": "3e296f74-fda1-44ba-bc3b-27c667474481",
   "metadata": {},
   "outputs": [
    {
     "data": {
      "text/plain": [
       "Index([30, 40, 50], dtype='int64')"
      ]
     },
     "execution_count": 31,
     "metadata": {},
     "output_type": "execute_result"
    }
   ],
   "source": [
    "import pandas as pd\n",
    "idx = pd.Index([10, 20, 30, 40, 50])\n",
    "idx[[2,3,4]]"
   ]
  },
  {
   "cell_type": "markdown",
   "id": "7c7e2622-55ea-461e-b840-a9fceeb1bfb2",
   "metadata": {},
   "source": [
    "**Fancy Indexing**"
   ]
  },
  {
   "cell_type": "code",
   "execution_count": 34,
   "id": "d3dae661-33d1-4f4b-9281-e3f1d7d388ac",
   "metadata": {},
   "outputs": [
    {
     "data": {
      "text/plain": [
       "(array([0, 1, 0, 1, 0, 1]), array([0, 2, 4]))"
      ]
     },
     "execution_count": 34,
     "metadata": {},
     "output_type": "execute_result"
    }
   ],
   "source": [
    "import numpy as np\n",
    "arr = np.array([0,1,2,3,4,5])\n",
    "arr%2, arr[arr%2==0]"
   ]
  },
  {
   "cell_type": "code",
   "execution_count": 33,
   "id": "451c5ea4-8516-414c-8711-d65056874740",
   "metadata": {},
   "outputs": [
    {
     "data": {
      "text/plain": [
       "(array([ True, False,  True, False,  True, False]),\n",
       " Index([0, 2, 4], dtype='int64'))"
      ]
     },
     "execution_count": 33,
     "metadata": {},
     "output_type": "execute_result"
    }
   ],
   "source": [
    "import pandas as pd\n",
    "idx = pd.Index([0, 1, 2, 3, 4, 5])\n",
    "idx%2==0, idx[idx%2==0]"
   ]
  },
  {
   "cell_type": "markdown",
   "id": "ba0e2194-6712-4e08-91f4-3a2e9eb2acaa",
   "metadata": {},
   "source": [
    "**What are subclasses of pandas.Index? And what will be dtype of internal numpy array?**"
   ]
  },
  {
   "cell_type": "markdown",
   "id": "5f03e873-8292-4498-97be-6720ecb83804",
   "metadata": {},
   "source": [
    "- `pandas.Index` is a very generic class. In the constructor,\n",
    "    - if you provide int, the internal numpy array dtype will be int64\n",
    "    - if you provide float, the internal numpy array dtype will be float64"
   ]
  },
  {
   "cell_type": "code",
   "execution_count": 36,
   "id": "4ce91a53-6d94-43ad-b3fc-e895ce0a2197",
   "metadata": {},
   "outputs": [
    {
     "data": {
      "text/plain": [
       "(Index([1, 2, 3, 4, 5], dtype='int64'),\n",
       " Index([1.0, 2.0, 3.0, 4.0, 5.0], dtype='float64'))"
      ]
     },
     "execution_count": 36,
     "metadata": {},
     "output_type": "execute_result"
    }
   ],
   "source": [
    "import pandas as pd\n",
    "\n",
    "idx_int = pd.Index([1,2,3,4,5])\n",
    "idx_float = pd.Index([1.0, 2.0, 3.0, 4.0, 5.0])\n",
    "idx_int, idx_float"
   ]
  },
  {
   "cell_type": "markdown",
   "id": "efa8ca9d-3268-4dbf-99a9-d9dd437621e9",
   "metadata": {},
   "source": [
    "- Also `pandas.Index` has few child classes like"
   ]
  },
  {
   "cell_type": "raw",
   "id": "1c6ea728-c7da-44c0-8f92-288b45e50bfe",
   "metadata": {},
   "source": [
    "Index\n",
    "├── RangeIndex\n",
    "├── CategoricalIndex\n",
    "├── IntervalIndex\n",
    "├── MultiIndex\n",
    "├── DatetimeIndex\n",
    "│    └── TimedeltaIndex (shares mixin)\n",
    "└── PeriodIndex"
   ]
  },
  {
   "cell_type": "markdown",
   "id": "54041ab8-95d0-469f-90e3-95213d49c1c6",
   "metadata": {},
   "source": [
    "- The difference between pandas.RangeIndex and pandas.Index is similar to the difference between list and range object in pandas.\n",
    "- RangeIndex is efficient, hence if we don't provide any label to pandas.Series, then by default it creates a RangeIndex object."
   ]
  },
  {
   "cell_type": "code",
   "execution_count": 37,
   "id": "55df30c6-0274-48cd-9961-98884fb002cb",
   "metadata": {},
   "outputs": [
    {
     "data": {
      "text/plain": [
       "RangeIndex(start=0, stop=5, step=1)"
      ]
     },
     "execution_count": 37,
     "metadata": {},
     "output_type": "execute_result"
    }
   ],
   "source": [
    "import pandas as pd\n",
    "idx = pd.Index(range(5))\n",
    "idx"
   ]
  },
  {
   "cell_type": "markdown",
   "id": "6fcb078e-c379-4443-8718-304546ce9c01",
   "metadata": {},
   "source": [
    "**NumPy arrays are mutable. pandas.Index is basically a wrapper around numpy.ndarray. Is pandas.Index is also mutable?**"
   ]
  },
  {
   "cell_type": "markdown",
   "id": "b0f3a905-b12f-461f-b354-d4b994191607",
   "metadata": {},
   "source": [
    "No, because index is used to locate an element in the data structure. If that were mutable, then then the entire data structure will fall apart. That's why pandas.Index is not mutable, even though it's internally a numpy.ndarray."
   ]
  },
  {
   "cell_type": "code",
   "execution_count": 4,
   "id": "1ca19cd4-a643-4f14-bad5-d3ab59a64464",
   "metadata": {},
   "outputs": [
    {
     "name": "stdout",
     "output_type": "stream",
     "text": [
      "Index does not support mutable operations\n"
     ]
    }
   ],
   "source": [
    "import pandas as pd\n",
    "\n",
    "idx = pd.Index([0,1,2,3,4,5])\n",
    "\n",
    "try:\n",
    "    idx[3] = 30\n",
    "except TypeError as ex:\n",
    "    print(ex)"
   ]
  },
  {
   "cell_type": "markdown",
   "id": "a540f926-9dbc-4f3e-87c1-54d065f99176",
   "metadata": {},
   "source": [
    "**How pandas Index class supports SET Operation? And why was that needed in the first place?**"
   ]
  },
  {
   "cell_type": "markdown",
   "id": "a142b887-4132-4c3b-8e3c-191efb834002",
   "metadata": {},
   "source": [
    "- pandas indexes have set like properties\n",
    "- we can perform union(|), intersection(&) elementof(in) operation"
   ]
  }
 ],
 "metadata": {
  "kernelspec": {
   "display_name": "Python 3 (ipykernel)",
   "language": "python",
   "name": "python3"
  },
  "language_info": {
   "codemirror_mode": {
    "name": "ipython",
    "version": 3
   },
   "file_extension": ".py",
   "mimetype": "text/x-python",
   "name": "python",
   "nbconvert_exporter": "python",
   "pygments_lexer": "ipython3",
   "version": "3.12.11"
  }
 },
 "nbformat": 4,
 "nbformat_minor": 5
}
