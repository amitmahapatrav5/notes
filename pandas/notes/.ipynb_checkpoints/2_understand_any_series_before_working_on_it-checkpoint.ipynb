{
 "cells": [
  {
   "cell_type": "markdown",
   "id": "7b324776-cba3-44c9-b3cc-9be200b294c0",
   "metadata": {},
   "source": [
    "# Pandas Series Object"
   ]
  },
  {
   "cell_type": "code",
   "execution_count": 2,
   "id": "3857e97c-1de1-46f6-84c2-7c8fbadc39d7",
   "metadata": {},
   "outputs": [],
   "source": [
    "import pandas as pd"
   ]
  },
  {
   "cell_type": "markdown",
   "id": "8ff0a2ff-80c1-4f6a-bfcb-f97f1ba49802",
   "metadata": {},
   "source": [
    "## Series instantiation"
   ]
  },
  {
   "cell_type": "markdown",
   "id": "51903483-81bf-46e6-9583-00dd3f11efad",
   "metadata": {},
   "source": [
    "- Instantiation way is pd.Series(). Important params during instantiation are \n",
    "    - data: it needs to be an iterable(List, Dictionary or range Object)\n",
    "    - index(optional): if not provided, then pandas will provide 0,1,2.., basically a RangeIndex object.\n",
    "    - dtype(optional): basically the type of data"
   ]
  },
  {
   "cell_type": "markdown",
   "id": "a2462b11-8c12-4169-9ac7-f0bf71974ae6",
   "metadata": {},
   "source": [
    "- This is basically a combination of Python List and Python Dictionary.\n",
    "    - List because it holds a list of values\n",
    "    - Dictionary because it kinda requires a key to access a value or values. So Series can contain duplicate values, like dictionary. Funny thing **If you pass a dictionary, it automatically fetched the keys from the dictionary, this is the index param in Series() constructor.**"
   ]
  },
  {
   "cell_type": "markdown",
   "id": "121c01d7-b704-4a70-9f71-e84f9bd021c7",
   "metadata": {},
   "source": [
    "- Key difference between **NumPy Array** and **Pandas Series** is\n",
    "    - NumPy array elements are indexed implicitly by position. We cannot change this\n",
    "    - In case of pandas Series object, if we do not provide any index, by default the index is a RangeIndex object(0, 1, ..n-1). But we can however provide explicit index. In panda's world, this explicit index is called **label**"
   ]
  },
  {
   "cell_type": "markdown",
   "id": "8dcbc871-ffd7-487d-aba5-131affa5bf72",
   "metadata": {},
   "source": [
    "### Series Instantiation - Empty"
   ]
  },
  {
   "cell_type": "code",
   "execution_count": 14,
   "id": "948a84fa-46bf-4acb-90da-badc737a6527",
   "metadata": {},
   "outputs": [
    {
     "data": {
      "text/plain": [
       "Series([], dtype: object)"
      ]
     },
     "execution_count": 14,
     "metadata": {},
     "output_type": "execute_result"
    }
   ],
   "source": [
    "s = pd.Series()\n",
    "s"
   ]
  },
  {
   "cell_type": "markdown",
   "id": "f4c63429-3c55-4601-a019-c4500ab481f3",
   "metadata": {},
   "source": [
    "### Series Instantiation - List"
   ]
  },
  {
   "cell_type": "code",
   "execution_count": 15,
   "id": "1b6c01d2-d44d-4905-8931-ea785aec444e",
   "metadata": {},
   "outputs": [
    {
     "data": {
      "text/plain": [
       "0             food\n",
       "1        household\n",
       "2    communication\n",
       "3    entertainment\n",
       "dtype: object"
      ]
     },
     "execution_count": 15,
     "metadata": {},
     "output_type": "execute_result"
    }
   ],
   "source": [
    "categories = pd.Series( [\"food\", \"household\", \"communication\", \"entertainment\"] )\n",
    "categories"
   ]
  },
  {
   "cell_type": "markdown",
   "id": "88f34f8b-dd18-449d-8eb3-03233e615fc5",
   "metadata": {},
   "source": [
    "### Series Instantiation - Dictionary"
   ]
  },
  {
   "cell_type": "code",
   "execution_count": 16,
   "id": "3274be6e-1609-4ed0-88d6-40694b051aaf",
   "metadata": {},
   "outputs": [
    {
     "data": {
      "text/plain": [
       "food                      food.xlsx\n",
       "household            household.xlsx\n",
       "communication    communication.xlsx\n",
       "entertainment    entertainment.xlsx\n",
       "dtype: object"
      ]
     },
     "execution_count": 16,
     "metadata": {},
     "output_type": "execute_result"
    }
   ],
   "source": [
    "categories = pd.Series({\n",
    "    'food': 'food.xlsx',\n",
    "    'household': 'household.xlsx',\n",
    "    'communication': 'communication.xlsx',\n",
    "    'entertainment': 'entertainment.xlsx'\n",
    "})\n",
    "categories"
   ]
  },
  {
   "cell_type": "markdown",
   "id": "a89635aa-e289-4c93-bdcc-e2f2026dc069",
   "metadata": {},
   "source": [
    "### Series Instantiation - Iterable"
   ]
  },
  {
   "cell_type": "code",
   "execution_count": 17,
   "id": "3d4f6695-231f-4705-807f-10251d580cd5",
   "metadata": {},
   "outputs": [
    {
     "data": {
      "text/plain": [
       "0    0\n",
       "1    1\n",
       "2    2\n",
       "3    3\n",
       "4    4\n",
       "dtype: int64"
      ]
     },
     "execution_count": 17,
     "metadata": {},
     "output_type": "execute_result"
    }
   ],
   "source": [
    "nums = pd.Series( (i for i in range(5)) )\n",
    "nums"
   ]
  }
 ],
 "metadata": {
  "kernelspec": {
   "display_name": "Python 3 (ipykernel)",
   "language": "python",
   "name": "python3"
  },
  "language_info": {
   "codemirror_mode": {
    "name": "ipython",
    "version": 3
   },
   "file_extension": ".py",
   "mimetype": "text/x-python",
   "name": "python",
   "nbconvert_exporter": "python",
   "pygments_lexer": "ipython3",
   "version": "3.12.11"
  }
 },
 "nbformat": 4,
 "nbformat_minor": 5
}
