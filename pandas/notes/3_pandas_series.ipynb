{
 "cells": [
  {
   "cell_type": "markdown",
   "id": "7b324776-cba3-44c9-b3cc-9be200b294c0",
   "metadata": {},
   "source": [
    "# Pandas Series"
   ]
  },
  {
   "cell_type": "markdown",
   "id": "6f5e9ff2-e2d4-447e-933f-99ed33c06541",
   "metadata": {},
   "source": [
    "**How \"pandas.Series = pandas.Index + *sometimes* numpy.ndarray? Also why sometimes?**"
   ]
  },
  {
   "cell_type": "markdown",
   "id": "bfd7e41d-b636-4c94-a2f1-bbcdfec37b39",
   "metadata": {},
   "source": [
    "- pandas Series class is basically mapping 2 things. pandas.Index <-> *sometimes* numpy.ndarray\n",
    "- Now why **sometimes**? Because the data we provide in Series, can be of anytype.\n",
    "- Now what can be in this 'any' type?\n",
    "    - Simple Cases: int, float, str, bool, None - in these cases the internal representation is always `numpy.ndarray`\n",
    "    - Complex Cases: datetime, categorical, period, nullable int - in these cases the internal representation is not a `numpy.ndarray`. Hence sometimes."
   ]
  },
  {
   "cell_type": "code",
   "execution_count": 1,
   "id": "9fc07007-4f9d-4edb-b5ce-f9f2052da5ee",
   "metadata": {},
   "outputs": [
    {
     "name": "stdout",
     "output_type": "stream",
     "text": [
      "<class 'pandas.core.arrays.numpy_.NumpyExtensionArray'>\n",
      "<class 'numpy.ndarray'>\n",
      "<class 'pandas.core.arrays.numpy_.NumpyExtensionArray'>\n",
      "<class 'numpy.ndarray'>\n",
      "<class 'pandas.core.arrays.numpy_.NumpyExtensionArray'>\n",
      "<class 'numpy.ndarray'>\n",
      "<class 'pandas.core.arrays.numpy_.NumpyExtensionArray'>\n",
      "<class 'numpy.ndarray'>\n",
      "<class 'pandas.core.arrays.numpy_.NumpyExtensionArray'>\n",
      "<class 'numpy.ndarray'>\n"
     ]
    }
   ],
   "source": [
    "# Simple Case\n",
    "# You can check the internal representation with s._values\n",
    "\n",
    "import pandas as pd\n",
    "\n",
    "s = pd.Series([10, 20, 30])\n",
    "print(type(s.array))\n",
    "print(type(s._values))\n",
    "\n",
    "s = pd.Series([1.1, 2.2, 3.3])\n",
    "print(type(s.array))\n",
    "print(type(s._values))\n",
    "\n",
    "s = pd.Series([\"a\", \"b\", \"c\"])\n",
    "print(type(s.array))\n",
    "print(type(s._values))\n",
    "\n",
    "s = pd.Series([True, False, True])\n",
    "print(type(s.array))\n",
    "print(type(s._values))\n",
    "\n",
    "s = pd.Series([None, None, None])\n",
    "print(type(s.array))\n",
    "print(type(s._values))"
   ]
  },
  {
   "cell_type": "code",
   "execution_count": 2,
   "id": "654f87c4-e64e-4c8c-8ab3-210e66c99db2",
   "metadata": {},
   "outputs": [
    {
     "name": "stdout",
     "output_type": "stream",
     "text": [
      "<class 'pandas.core.arrays.datetimes.DatetimeArray'>\n",
      "<class 'pandas.core.arrays.datetimes.DatetimeArray'>\n",
      "<class 'pandas.core.arrays.categorical.Categorical'>\n",
      "<class 'pandas.core.arrays.categorical.Categorical'>\n",
      "<class 'pandas.core.arrays.period.PeriodArray'>\n",
      "<class 'pandas.core.arrays.period.PeriodArray'>\n",
      "<class 'pandas.core.arrays.integer.IntegerArray'>\n",
      "<class 'pandas.core.arrays.integer.IntegerArray'>\n"
     ]
    }
   ],
   "source": [
    "# Complex Case\n",
    "# You can check the internal representation with s._values\n",
    "\n",
    "import pandas as pd\n",
    "\n",
    "s = pd.Series(pd.date_range(\"2024-01-01\", periods=3))\n",
    "print(type(s.array))\n",
    "print(type(s._values))\n",
    "\n",
    "s = pd.Series(pd.Categorical([\"a\", \"b\", \"a\"]))\n",
    "print(type(s.array))\n",
    "print(type(s._values))\n",
    "\n",
    "s = pd.Series(pd.period_range(\"2020-01\", periods=3, freq=\"M\"))\n",
    "print(type(s.array))\n",
    "print(type(s._values))\n",
    "\n",
    "s = pd.Series([1, 2, None], dtype=\"Int64\")\n",
    "print(type(s.array))\n",
    "print(type(s._values))"
   ]
  },
  {
   "cell_type": "markdown",
   "id": "260a0237-9ead-47f1-bc0d-c771a0eb7670",
   "metadata": {},
   "source": [
    "**What is my guess on parameters of pandas.Series constructor?**"
   ]
  },
  {
   "cell_type": "markdown",
   "id": "d0af166b-5905-4d72-8f7a-22e0bf8e39e5",
   "metadata": {},
   "source": [
    "- One thing should be clear, the pandas.Series constructor must expect 1 thing, that is **data**.\n",
    "- If you are not providing index(dirctly or indirectly) then it is going to create a RangeIndex object. Why RangeIndex? Because It’s memory-efficient and optimized for fast iteration and slicing which I studied in last point of pandas.Index\n",
    "- What I meant when I say **directly or indirectly**?"
   ]
  },
  {
   "cell_type": "code",
   "execution_count": 3,
   "id": "983c677a-7ccc-4fd8-8570-e581ab7d3859",
   "metadata": {},
   "outputs": [
    {
     "data": {
      "text/plain": [
       "1    100\n",
       "2    200\n",
       "3    300\n",
       "4    400\n",
       "5    500\n",
       "dtype: int64"
      ]
     },
     "execution_count": 3,
     "metadata": {},
     "output_type": "execute_result"
    }
   ],
   "source": [
    "# directly\n",
    "import pandas as pd\n",
    "\n",
    "series = pd.Series(data=[100,200,300,400,500], index=pd.Index([1,2,3,4,5]))\n",
    "series"
   ]
  },
  {
   "cell_type": "code",
   "execution_count": 4,
   "id": "cd60a3ff-9d3b-4ba0-a4f0-6112caa40325",
   "metadata": {
    "scrolled": true
   },
   "outputs": [
    {
     "data": {
      "text/plain": [
       "1    100\n",
       "2    200\n",
       "3    300\n",
       "4    400\n",
       "5    500\n",
       "dtype: int64"
      ]
     },
     "execution_count": 4,
     "metadata": {},
     "output_type": "execute_result"
    }
   ],
   "source": [
    "# Indirectly\n",
    "import pandas as pd\n",
    "\n",
    "series = pd.Series(data = {\n",
    "    1: 100,\n",
    "    2: 200,\n",
    "    3: 300,\n",
    "    4: 400,\n",
    "    5: 500\n",
    "})\n",
    "series"
   ]
  },
  {
   "cell_type": "markdown",
   "id": "d15b4d1b-d31e-4da9-b893-591b373ff0f3",
   "metadata": {},
   "source": [
    "**Now that we have a data structure, how do we perform *URD* Operation? Well *Create*, we just saw, so that's Done**"
   ]
  },
  {
   "cell_type": "markdown",
   "id": "4c01a611-4a0b-4406-baf8-991b0aae2f45",
   "metadata": {},
   "source": [
    "**How do you read/access a desired cell in pandas.Series?**"
   ]
  },
  {
   "cell_type": "markdown",
   "id": "f6ea1483-5b93-44c1-a02b-45663f6e74f4",
   "metadata": {},
   "source": [
    "- Reading an element from a Series. Technically I need 1 value. Because it's 1D. And the value should be a Index. Now question is, whether it should be a explicit index(label) or inplicit index(positional) or we can use both?\n",
    "- This was initially a confusion in panda's series when people started using the notation `series[index]` where both explicit and implicit index, are integers. Now what should pandas consider? Should it consider the implicit one or explicit one? pandas team cannot find a justified reason to choose one.\n",
    "- So they came up with the solution. They came up with 2 attributes called `loc` and `iloc`.\n",
    "- `iloc` with the name you could guess, implicit index and then `loc` will definitely be explicit index."
   ]
  },
  {
   "cell_type": "markdown",
   "id": "a061f1dc-9f08-432d-a402-aa6609fbaee1",
   "metadata": {},
   "source": [
    "**Problem**"
   ]
  },
  {
   "cell_type": "code",
   "execution_count": 5,
   "id": "39bc4b4e-74ba-48f5-a58f-b1d6dc7f93e1",
   "metadata": {},
   "outputs": [
    {
     "name": "stdout",
     "output_type": "stream",
     "text": [
      "1         food\n",
      "4     clothing\n",
      "2    household\n",
      "dtype: object\n",
      "travel\n"
     ]
    }
   ],
   "source": [
    "import pandas as pd\n",
    "\n",
    "expense_categories = pd.Series({\n",
    "    1: 'food',\n",
    "    4: 'clothing',\n",
    "    2: 'household',\n",
    "    3: 'travel',\n",
    "    5: 'entertainment'\n",
    "})\n",
    "\n",
    "print(expense_categories[:3]) # pandas is considering implicit index\n",
    "print(expense_categories[3])  # pandas is considering explicit index\n",
    "\n",
    "# This is confusing"
   ]
  },
  {
   "cell_type": "markdown",
   "id": "07f80e1b-a817-4e5a-990a-1db5f50d1b36",
   "metadata": {},
   "source": [
    "**loc and iloc in rescue**"
   ]
  },
  {
   "cell_type": "code",
   "execution_count": 6,
   "id": "4ff521ac-90ef-4213-ae5f-dc502f818e00",
   "metadata": {},
   "outputs": [
    {
     "name": "stdout",
     "output_type": "stream",
     "text": [
      "1         food\n",
      "4     clothing\n",
      "2    household\n",
      "dtype: object\n",
      "travel\n",
      "1         food\n",
      "4     clothing\n",
      "2    household\n",
      "3       travel\n",
      "dtype: object\n",
      "travel\n"
     ]
    }
   ],
   "source": [
    "import pandas as pd\n",
    "\n",
    "expense_categories = pd.Series({\n",
    "    1: 'food',\n",
    "    4: 'clothing',\n",
    "    2: 'household',\n",
    "    3: 'travel',\n",
    "    5: 'entertainment'\n",
    "})\n",
    "\n",
    "# Now pandas is considering implicit index strictly\n",
    "print( expense_categories.iloc[:3] )\n",
    "print( expense_categories.iloc[3] )\n",
    "\n",
    "# Now pandas is considering explicit index strictly - BUT...\n",
    "print( expense_categories.loc[:3] )\n",
    "print( expense_categories.loc[3] )"
   ]
  },
  {
   "cell_type": "markdown",
   "id": "5a8bbb26-b467-4bc6-bb5c-67eb84d8864f",
   "metadata": {},
   "source": [
    "- What about that BUT? - Well this is an FYI, *While Slicing, if we are using explicit index, pandas will also consider the last element.* Why? Well I think it's for convinience. Say you know you want till `category `c`, it would be unnatural to provide everything till category c, but not category c. So I think pandas team decided that if you gonna use explicit index, they gonna consider the last element as well."
   ]
  },
  {
   "cell_type": "markdown",
   "id": "08cce1f2-1fa0-4644-80f4-4fe053a138b2",
   "metadata": {},
   "source": [
    "- Also, we know that `pandas.Index` can have duplicate in it's labels, so if, we use "
   ]
  },
  {
   "cell_type": "markdown",
   "id": "2e06a4b5-5e32-437e-9cfe-c9654a250c3f",
   "metadata": {},
   "source": [
    "**I know pandas.Index can have duplicate labels, so what happens when I ask for an element with the label I know which is duplicate?**"
   ]
  },
  {
   "cell_type": "markdown",
   "id": "6505fd26-01f3-4b8d-937b-731cd5f03862",
   "metadata": {},
   "source": [
    "Well answer to that is very simple. You will get more than 1 element if duplicate exists. As simple as that."
   ]
  },
  {
   "cell_type": "code",
   "execution_count": 7,
   "id": "023bcac5-cdce-417d-baf5-7af8d3397935",
   "metadata": {},
   "outputs": [
    {
     "data": {
      "text/plain": [
       "even    2\n",
       "even    4\n",
       "dtype: int64"
      ]
     },
     "execution_count": 7,
     "metadata": {},
     "output_type": "execute_result"
    }
   ],
   "source": [
    "import pandas as pd\n",
    "\n",
    "nums = pd.Series(data=[2, 3, 4, 6], index=['even', 'odd', 'even', 'odd'])\n",
    "nums.loc['even']"
   ]
  },
  {
   "cell_type": "code",
   "execution_count": 8,
   "id": "325ee23f-552b-431e-9a62-e91f0fe7e03a",
   "metadata": {},
   "outputs": [
    {
     "data": {
      "text/plain": [
       "np.int64(4)"
      ]
     },
     "execution_count": 8,
     "metadata": {},
     "output_type": "execute_result"
    }
   ],
   "source": [
    "# This is a tricky one\n",
    "import pandas as pd\n",
    "\n",
    "nums = pd.Series({\n",
    "    'even': 2,\n",
    "    'odd': 3,\n",
    "    'even': 4,\n",
    "    'odd': 5\n",
    "})\n",
    "\n",
    "nums.loc['even'] # Why I am getting only 4, huh?"
   ]
  },
  {
   "cell_type": "markdown",
   "id": "16b514eb-ed5b-47fd-a46d-6c4f79de285b",
   "metadata": {},
   "source": [
    "**How do you update pandas.Series?**"
   ]
  },
  {
   "cell_type": "markdown",
   "id": "26b5dda9-fee4-4127-97bf-5b79fa5328b4",
   "metadata": {},
   "source": [
    "- Well, ofcourse using Index. And ofcourse the `.loc` and `.iloc` will be helpful here, because to update something, you first need to locate it ans to locate it, you need these 2.\n",
    "- And odcourse its not required to explain when to use `iloc` and when to use `loc`. Because one gureentees to give an unique element and another may give one and more."
   ]
  },
  {
   "cell_type": "code",
   "execution_count": 9,
   "id": "7e88258e-5a0b-471e-a073-ef1a9716fa22",
   "metadata": {},
   "outputs": [
    {
     "data": {
      "text/plain": [
       "Mon    1000\n",
       "Tue      20\n",
       "Mon    1000\n",
       "Wed      40\n",
       "Tue     100\n",
       "dtype: int64"
      ]
     },
     "execution_count": 9,
     "metadata": {},
     "output_type": "execute_result"
    }
   ],
   "source": [
    "import pandas as pd\n",
    "\n",
    "sales = pd.Series(data=[10, 20, 30, 40, 50], index=['Mon', 'Tue', 'Mon', 'Wed', 'Tue'])\n",
    "\n",
    "sales.iloc[-1] = 100     # Only targetting 1 cell\n",
    "sales.loc['Mon'] = 1000  # Targetting 2 cells\n",
    "\n",
    "sales"
   ]
  },
  {
   "cell_type": "markdown",
   "id": "5623a72d-5113-4b45-9e54-a62dfdd70e71",
   "metadata": {},
   "source": [
    "**How do you delete selected cells in pandas.Series?**"
   ]
  },
  {
   "cell_type": "markdown",
   "id": "3bb6eddb-6c9f-4440-8889-601a6e58145a",
   "metadata": {},
   "source": [
    "- Well, for deleting a cell, we ofcourse need to locate that cell. Locating a cell in pandas?, ofcourse we need index. Index in pandas, which one? ofcourse we need loc and iloc. Ok, now we have located one/multiple cell(s).\n",
    "- Ok, now we know pandas.Series = mapping between pandas.Index and *sometime* numpy.ndarray and we also know that pandas.Index is immutable. So after we delete an element, what happens to the index??\n",
    "- Well that's why after deleting, pandas create an entirely new Series object. And for deleting elements, we need to use `drop()` method.\n",
    "- Ok, now that we are clear on the method which we need to use, what kinda of index should we use, can we use implicit? WELL NO. But why not? Well I don't know the reason. But if you want to delete based on position, get the index object and then go nuts.\n",
    "- Also, there is an `inplace` param. By default, it's `false`. But if set to `True`, then it will return `None` and change the original series."
   ]
  },
  {
   "cell_type": "code",
   "execution_count": 10,
   "id": "677c64eb-bda3-4596-86af-c3ab921a2ddd",
   "metadata": {},
   "outputs": [],
   "source": [
    "import pandas as pd\n",
    "\n",
    "sales = pd.Series(\n",
    "    data=[10, 20, 30, 40, 50, 60, 70, 80, 90, 100, 110, 120],\n",
    "    index=['Mon', 'Tue', 'Wed', 'Thu', 'Fri', 'Sat', 'Sun', 'Mon', 'Tue', 'Wed', 'Thu', 'Fri']\n",
    ")\n",
    "\n",
    "# new_sales = sales.drop(labels='Mon')            # 2 Mon will be deleted\n",
    "# new_sales = sales.drop(labels=['Mon', 'Tue'])   # 2 Mon and 2 Tue will be deleted"
   ]
  },
  {
   "cell_type": "markdown",
   "id": "1be0862e-086a-4d3f-bab7-212f1c0f3f60",
   "metadata": {},
   "source": [
    "Of course there are fancier ways to do this"
   ]
  },
  {
   "cell_type": "code",
   "execution_count": 11,
   "id": "1ecec436-cd83-4d81-b2fa-c5d30d935103",
   "metadata": {},
   "outputs": [
    {
     "data": {
      "text/plain": [
       "Tue     20\n",
       "Thu     40\n",
       "Sat     60\n",
       "Tue     90\n",
       "Thu    110\n",
       "dtype: int64"
      ]
     },
     "execution_count": 11,
     "metadata": {},
     "output_type": "execute_result"
    }
   ],
   "source": [
    "import pandas as pd\n",
    "\n",
    "sales = pd.Series(\n",
    "    data=[10, 20, 30, 40, 50, 60, 70, 80, 90, 100, 110, 120],\n",
    "    index=['Mon', 'Tue', 'Wed', 'Thu', 'Fri', 'Sat', 'Sun', 'Mon', 'Tue', 'Wed', 'Thu', 'Fri']\n",
    ")\n",
    "\n",
    "sales.index                 # This returns a index object\n",
    "sales.index[ [0, 2, 4, 6] ] # This will get us the labels and We can do this because pandas.Index supports fancy indexing\n",
    "\n",
    "sales.drop(labels=sales.index[ [0, 2, 4, 6] ]) # Fancy Way"
   ]
  },
  {
   "cell_type": "markdown",
   "id": "0aa324dc-04e8-458b-bed0-790111214cfb",
   "metadata": {},
   "source": [
    "**What properties of pandas.Series are similar to numpy.ndarray?**"
   ]
  },
  {
   "cell_type": "markdown",
   "id": "94964af8-b052-47d8-ab29-e7fd273c5b1d",
   "metadata": {},
   "source": [
    "- Well pandas.Series => pandas.Index <=> (sometime) numpy.ndarray => basically numpy.ndarray.\n",
    "- So it supports what numpy.ndarray supports\n",
    "- `.size`, `.shape`, `.dtype`, `.T`, `len`"
   ]
  },
  {
   "cell_type": "code",
   "execution_count": 19,
   "id": "cbb3cd40-b4ff-436a-86ea-9c4780f24982",
   "metadata": {},
   "outputs": [
    {
     "data": {
      "text/plain": [
       "(5,\n",
       " (5,),\n",
       " dtype('int64'),\n",
       " array([ True,  True,  True,  True,  True]),\n",
       " numpy.ndarray,\n",
       " 5)"
      ]
     },
     "execution_count": 19,
     "metadata": {},
     "output_type": "execute_result"
    }
   ],
   "source": [
    "import numpy as np\n",
    "\n",
    "nums = np.array([1,2,3,4,5])\n",
    "\n",
    "nums.size, nums.shape, nums.dtype, nums==nums.T, type(nums), len(nums)"
   ]
  },
  {
   "cell_type": "code",
   "execution_count": 20,
   "id": "0b51f105-6848-4a1f-b815-4bcb1f7d5147",
   "metadata": {},
   "outputs": [
    {
     "data": {
      "text/plain": [
       "(5,\n",
       " (5,),\n",
       " dtype('int64'),\n",
       " 0    True\n",
       " 1    True\n",
       " 2    True\n",
       " 3    True\n",
       " 4    True\n",
       " dtype: bool,\n",
       " pandas.core.series.Series,\n",
       " 5)"
      ]
     },
     "execution_count": 20,
     "metadata": {},
     "output_type": "execute_result"
    }
   ],
   "source": [
    "import pandas as pd\n",
    "\n",
    "nums = pd.Series([1,2,3,4,5])\n",
    "\n",
    "nums.size, nums.shape, nums.dtype, nums==nums.T, type(nums), len(nums)"
   ]
  },
  {
   "cell_type": "markdown",
   "id": "47e97fe6-f5d7-490b-b301-0a373f2a0175",
   "metadata": {},
   "source": [
    "**Pandas Series object support majority of the python builtin functions. like what?**"
   ]
  },
  {
   "cell_type": "code",
   "execution_count": 24,
   "id": "95969528-aa12-4ffb-a968-b532f85cc73c",
   "metadata": {},
   "outputs": [
    {
     "name": "stdout",
     "output_type": "stream",
     "text": [
      "10\n",
      "[1, -1, 2, -2, 3, -3, 4, -4, 5, -5]\n",
      "5 -5\n",
      "[-5, -4, -3, -2, -1, 1, 2, 3, 4, 5]\n"
     ]
    }
   ],
   "source": [
    "import pandas as pd\n",
    "\n",
    "nums = pd.Series([1, -1, 2, -2, 3, -3, 4, -4, 5, -5])\n",
    "\n",
    "print(len(nums))\n",
    "\n",
    "print(list(nums))\n",
    "\n",
    "print(max(nums), min(nums))\n",
    "\n",
    "# print(dict(nums)) # this is not useful though\n",
    "\n",
    "print(sorted(nums))"
   ]
  },
  {
   "cell_type": "markdown",
   "id": "1061e778-cd23-4003-95d4-6ad8ee8d979f",
   "metadata": {},
   "source": [
    "**What pandas.Series specific, that nothing of it's ancestor provides**"
   ]
  },
  {
   "cell_type": "code",
   "execution_count": 28,
   "id": "e65b3f57-fe8a-493d-8ce0-af92f83565e1",
   "metadata": {},
   "outputs": [
    {
     "name": "stdout",
     "output_type": "stream",
     "text": [
      "RangeIndex(start=0, stop=10, step=1)\n",
      "[ 1 -1  2 -2  3 -3  4 -4  5 -5]\n",
      "0    1\n",
      "1   -1\n",
      "2    2\n",
      "3   -2\n",
      "4    3\n",
      "dtype: int64\n",
      "5   -3\n",
      "6    4\n",
      "7   -4\n",
      "8    5\n",
      "9   -5\n",
      "dtype: int64\n"
     ]
    }
   ],
   "source": [
    "import pandas as pd\n",
    "\n",
    "nums = pd.Series([1, -1, 2, -2, 3, -3, 4, -4, 5, -5])\n",
    "\n",
    "\n",
    "# getting index\n",
    "print( nums.index )\n",
    "\n",
    "# getting values\n",
    "print( nums.values )\n",
    "\n",
    "# getting head\n",
    "print( nums.head() )\n",
    "\n",
    "# getting tail\n",
    "print( nums.tail() )"
   ]
  }
 ],
 "metadata": {
  "kernelspec": {
   "display_name": "Python 3 (ipykernel)",
   "language": "python",
   "name": "python3"
  },
  "language_info": {
   "codemirror_mode": {
    "name": "ipython",
    "version": 3
   },
   "file_extension": ".py",
   "mimetype": "text/x-python",
   "name": "python",
   "nbconvert_exporter": "python",
   "pygments_lexer": "ipython3",
   "version": "3.12.11"
  }
 },
 "nbformat": 4,
 "nbformat_minor": 5
}
