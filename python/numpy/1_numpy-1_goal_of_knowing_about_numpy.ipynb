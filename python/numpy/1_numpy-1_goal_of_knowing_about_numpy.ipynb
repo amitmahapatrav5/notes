{
 "cells": [
  {
   "cell_type": "markdown",
   "id": "b717a72f-3e3a-4ed6-a5e6-e0b48867a729",
   "metadata": {},
   "source": [
    "# Goal of Knowing about NumPy"
   ]
  },
  {
   "cell_type": "markdown",
   "id": "94e90cdc-b8c5-422a-b0df-4b31a327ef9a",
   "metadata": {},
   "source": [
    "## My Understanding Earlier\n",
    "- I feel, numpy, in it's raw form is not used in majority of places.\n",
    "- But it is used internally in majority of places, majorly in pandas\n",
    "- Also few syntax of numpy like slicing, stacking, fancy indexing, masking etc are used in pandas\n",
    "- So the goal of learning numpy, for me, is learn these syntaxes and internal details. That way, when using pandas, it will be very familiar and similar."
   ]
  },
  {
   "cell_type": "markdown",
   "id": "37718493-a2c5-4241-8406-2c486db784b2",
   "metadata": {},
   "source": [
    "## My Understanding Now, after learning pytorch\n",
    "- I feel numpy, is used heavily in various places, specially in Deep Learning. Because in deep learning, we need arrays of various dimensions of array, for testing the model architecture, feeding data to model and various other tasks. numpy is your best friend there.\n",
    "- In my experience, it is majorly used internally in pandas, pytorch, and I believe tensorflow as well.\n",
    "- I discovered, numpy syntax is extreamly similar to torch's numpy like module.\n",
    "- So, goal of learning numpy, for me, is learn about dimensions and that will help you in knowing one other library, called torch and it will provide very much environmental familarity while working on deep learning model. "
   ]
  },
  {
   "cell_type": "markdown",
   "id": "7783fcc4-4a4f-48ad-bc9f-4bed86cf87c4",
   "metadata": {},
   "source": [
    "## Why arrays are important?\n",
    "- Numpy is basically the study of arrays.\n",
    "- We deal with arrays so much, but we don't actually realize it\n",
    "    - An image is a 2D Array of Pixels\n",
    "    - Every pixel is an 1D array of colors, R,G,B\n",
    "    - Video, is basically array of images\n",
    "    - audio is encoded into arrays\n",
    "    - stock quotes are stored in arrays\n",
    "    - Excel Spreadsheet is basically a 2D array\n",
    "- Hence we need to understand how to deal with arrays. And numpy tells us HOW to!!"
   ]
  }
 ],
 "metadata": {
  "kernelspec": {
   "display_name": "Python 3 (ipykernel)",
   "language": "python",
   "name": "python3"
  },
  "language_info": {
   "codemirror_mode": {
    "name": "ipython",
    "version": 3
   },
   "file_extension": ".py",
   "mimetype": "text/x-python",
   "name": "python",
   "nbconvert_exporter": "python",
   "pygments_lexer": "ipython3",
   "version": "3.12.4"
  }
 },
 "nbformat": 4,
 "nbformat_minor": 5
}
