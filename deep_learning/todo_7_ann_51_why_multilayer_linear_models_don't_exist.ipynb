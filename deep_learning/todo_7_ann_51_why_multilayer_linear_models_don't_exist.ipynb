{
 "cells": [
  {
   "cell_type": "markdown",
   "id": "28da1ce5",
   "metadata": {},
   "source": [
    "# Reference\n",
    "\n",
    "Section: 7 \\\n",
    "Lecture: 51 \\\n",
    "Title: Why multilayer linear models don't exist \\\n",
    "TCS Udemy Reference Link: https://tcsglobal.udemy.com/course/deeplearning_x/learn/lecture/27842142 \\\n",
    "Udemy Reference Link: \\\n",
    "Pre-Requisite:\n",
    "\n",
    "# Why multilayer linear models don't exist\n",
    "\n",
    "**Without non-linear activations, multiple \"layers\" collapse into a single linear transformation.**\n",
    "Any sequence of linear functions can be combined into one equivalent linear function by multiplying their weight matrices.\n",
    "\n",
    "**Non-linearities are essential between layers.**  \n",
    " You must include some form of non-linearity—such as ReLU, tanh, sigmoid, pooling, etc.—to give depth to your model’s representational power.\n",
    "\n",
    "### Example (with non-linearity)\n",
    "\n",
    "- Layer 1 output: $\\hat y_1 = \\sigma(W_1^T . x )$\n",
    "- Layer 2 output: $\\hat y_2 = \\sigma(W_2^T . x )$\n",
    "  - $\\sigma$ can be any non-linear activation (ReLU, tanh, etc.)\n",
    "\n",
    "### What Happens If $\\sigma$ is Linear or Omitted\n",
    "\n",
    "- If $\\sigma$ is the identity (a linear function), it can be absorbed into the weight matrices.\n",
    "- Layer 2 becomes:\n",
    "  $$\n",
    "  \\hat y_2 = W_2^T \\bigl(W_1^T x\\bigr)\n",
    "           = (W_1 W_2)^T x\n",
    "           = W_{\\alpha}^T x\n",
    "  $$\n",
    "- All subsequent layers similarly collapse: effectively one layer with weights.\n",
    "\n",
    "### Numerical Illustration\n",
    "\n",
    "- Non-linear example: $log_{10}( 5 + 5 ) = 1$ but $log_{10}( 5 + 5 ) \\neq 1$ \\\n",
    "  Demonstrates that non-linear functions do not distribute over addition.\n",
    "- Linear example: $A.( 5 + 5 ) = A . 10$ and $ A.5 + A.5 = A.10 $ \\\n",
    "  Shows linear functions distribute, allowing collapse into a single weighted sum."
   ]
  }
 ],
 "metadata": {
  "jupytext": {
   "cell_metadata_filter": "-all",
   "main_language": "python",
   "notebook_metadata_filter": "-all"
  }
 },
 "nbformat": 4,
 "nbformat_minor": 5
}
