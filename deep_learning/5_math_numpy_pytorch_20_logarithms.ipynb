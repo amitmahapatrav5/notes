{
 "cells": [
  {
   "cell_type": "markdown",
   "id": "919d5e2c",
   "metadata": {},
   "source": [
    "# Reference\n",
    "\n",
    "Section: 5 \\\n",
    "Lecture: 20 \\\n",
    "Title: Logarithms \\\n",
    "TCS Udemy Reference Link: https://tcsglobal.udemy.com/course/deeplearning_x/learn/lecture/27841938 \\\n",
    "Udemy Reference Link: \\\n",
    "Pre-Requisite:"
   ]
  },
  {
   "cell_type": "code",
   "execution_count": null,
   "id": "211c482a",
   "metadata": {},
   "outputs": [],
   "source": [
    "import numpy as np\n",
    "import torch\n",
    "import matplotlib.pyplot as plt"
   ]
  },
  {
   "cell_type": "markdown",
   "id": "84357671",
   "metadata": {},
   "source": [
    "### Exponent and Logarithm cancel eachother"
   ]
  },
  {
   "cell_type": "code",
   "execution_count": null,
   "id": "8feba6f4",
   "metadata": {},
   "outputs": [],
   "source": [
    "X = np.random.random(size=100)\n",
    "y1 = np.exp(X)\n",
    "y2 = np.log(np.exp(X))\n",
    "\n",
    "_, axes = plt.subplots(1, 2, figsize=(10, 4))\n",
    "axes[0].scatter(X, y1, marker='o', color='gray', facecolor='w')\n",
    "axes[0].set_title('$e^x$')\n",
    "\n",
    "axes[1].scatter(X, y2, marker='o', color='green', facecolor='w')\n",
    "axes[1].set_title('$log_e(e^x) = x$')\n",
    "plt.show()"
   ]
  },
  {
   "cell_type": "markdown",
   "id": "3475be3e",
   "metadata": {},
   "source": [
    "### Logarithm is a monotonus function\n",
    "\n",
    "That means, when X foes up, the value of log(X) also goes up \\\n",
    "Log with different bases have the same properties \\\n",
    "But natural logarithm is mostly used because of it's relation with $e$"
   ]
  },
  {
   "cell_type": "code",
   "execution_count": null,
   "id": "913e6d56",
   "metadata": {},
   "outputs": [],
   "source": [
    "X = np.arange(1, 100)\n",
    "ye = np.log(X)\n",
    "y2 = np.log2(X)\n",
    "y10 = np.log10(X)\n",
    "\n",
    "plt.scatter(X, ye, marker='o', color='gray', facecolor='w', label='$log_e$')\n",
    "plt.scatter(X, y2, marker='o', color='red', facecolor='w', label='$log_2$')\n",
    "plt.scatter(X, y10, marker='o', color='green', facecolor='w', label='$log_{10}$')\n",
    "plt.xlabel('X')\n",
    "plt.ylabel('$log(X)$')\n",
    "plt.legend()\n",
    "plt.show()"
   ]
  }
 ],
 "metadata": {
  "jupytext": {
   "cell_metadata_filter": "-all",
   "main_language": "python",
   "notebook_metadata_filter": "-all"
  }
 },
 "nbformat": 4,
 "nbformat_minor": 5
}
