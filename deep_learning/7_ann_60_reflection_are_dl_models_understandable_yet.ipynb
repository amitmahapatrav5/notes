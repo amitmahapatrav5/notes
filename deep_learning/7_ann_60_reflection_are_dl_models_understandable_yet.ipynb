{
 "cells": [
  {
   "cell_type": "markdown",
   "id": "6cd94e30",
   "metadata": {},
   "source": [
    "# Reference\n",
    "\n",
    "Section: 7 \\\n",
    "Lecture: 60 \\\n",
    "Title: Reflection: Are DL models understandable yet? \\\n",
    "TCS Udemy Reference Link: https://tcsglobal.udemy.com/course/deeplearning_x/learn/lecture/27842168 \\\n",
    "Udemy Reference Link: \\\n",
    "Pre-Requisite:\n",
    "\n",
    "# Reflection: Are DL models understandable yet?\n",
    "\n",
    "- Each node of a deep learning model os performing a very simple mathematical operations.\n",
    "- Yet their interactions and non-linearities create a level of complexity that makes it difficult to understand what each unit in the model is doing.\n",
    "- Research is actively being conducted to improve our understanding of how deep learning models represent inputs and make decisions.\n",
    "- There are differing views on whether we truly understand how deep learning works, with some believing the equations are clear and others arguing that the models operate in ways that are not fully comprehensible."
   ]
  }
 ],
 "metadata": {
  "jupytext": {
   "cell_metadata_filter": "-all",
   "main_language": "python",
   "notebook_metadata_filter": "-all"
  }
 },
 "nbformat": 4,
 "nbformat_minor": 5
}
