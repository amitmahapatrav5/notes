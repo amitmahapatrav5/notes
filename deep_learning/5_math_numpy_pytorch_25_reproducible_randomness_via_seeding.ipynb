{
 "cells": [
  {
   "cell_type": "markdown",
   "id": "6e3d6aba",
   "metadata": {},
   "source": [
    "# Reference\n",
    "\n",
    "Section: 5 \\\n",
    "Lecture: 25 \\\n",
    "Title: Reproducible randomness via seeding \\\n",
    "TCS Udemy Reference Link: https://tcsglobal.udemy.com/course/deeplearning_x/learn/lecture/27841958 \\\n",
    "Udemy Reference Link: \\\n",
    "Pre-Requisite:\n",
    "\n",
    "# Reproducible Randomness via Seeding\n",
    "\n",
    "**Key Concept of Seed Phrases**\n",
    "\n",
    "A seed phrase is crucial because it establishes a fixed starting point for generating a sequence of random numbers. Once a seed is set, the resulting sequence remains consistent, regardless of the method used or the structure in which the data is stored.\n",
    "\n",
    "**For Example:**\n",
    "\n",
    "Consider a seed value of 10. For the sake of simplicity, let's assume that the random number generation algorithm produces numbers by adding the seed to the previous random number, with the initial random number being the seed itself. In this case, the sequence would be: 10, [20, 30], [[40], [50]], 60,... and so on.\n",
    "\n",
    "This illustrates that the shape, size, or method of data storage does not affect the sequence; it will always remain constant as long as the same seed is used.\n",
    "\n",
    "In practical applications, however, random number generation algorithms are typically much more complex than simply adding the seed to the previous number in the sequence.\n",
    "\n",
    "**Why required?**\n",
    "\n",
    "Before starting to train our deep learning model, we initialize the weights to random values. But when we share our algorithm, model and dataset we used to achieve the result, with anyone, and the other person initialize the weights randomly, those initial weights will be different from ours. To ensure the other person can reproduce the result exactly same to ours, we use this seeding mechanism.\n",
    "\n",
    "## Seeding in numpy"
   ]
  },
  {
   "cell_type": "code",
   "execution_count": null,
   "id": "38b81271",
   "metadata": {},
   "outputs": [],
   "source": [
    "import numpy as np"
   ]
  },
  {
   "cell_type": "markdown",
   "id": "a61bb4b3",
   "metadata": {},
   "source": [
    "### Older Seeding Approach"
   ]
  },
  {
   "cell_type": "code",
   "execution_count": null,
   "id": "9b7fce7f",
   "metadata": {},
   "outputs": [],
   "source": [
    "np.random.seed(10) # Set at module level\n",
    "\n",
    "print( np.random.rand(5) ) # [0.77132064 0.02075195 0.63364823 0.74880388 0.49850701]\n",
    "print( np.random.rand(5) ) # [0.22479665 0.19806286 0.76053071 0.16911084 0.08833981]"
   ]
  },
  {
   "cell_type": "markdown",
   "id": "06510546",
   "metadata": {},
   "source": [
    "    [0.77132064 0.02075195 0.63364823 0.74880388 0.49850701]\n",
    "    [0.22479665 0.19806286 0.76053071 0.16911084 0.08833981]\n",
    "\n",
    "### Newer Seeding Approach"
   ]
  },
  {
   "cell_type": "code",
   "execution_count": null,
   "id": "05006c19",
   "metadata": {},
   "outputs": [],
   "source": [
    "seed1 = np.random.RandomState(10) # Set at object level\n",
    "seed2 = np.random.RandomState(13) # Set at object level\n",
    "\n",
    "print( seed1.rand(5) ) # [0.77132064 0.02075195 0.63364823 0.74880388 0.49850701]\n",
    "print( seed2.rand(5) ) # [0.77770241 0.23754122 0.82427853 0.9657492  0.97260111]\n",
    "\n",
    "print( seed1.rand(5) ) # [0.22479665 0.19806286 0.76053071 0.16911084 0.08833981]\n",
    "print( seed2.rand(5) ) # [0.45344925 0.60904246 0.77552651 0.64161334 0.72201823]"
   ]
  },
  {
   "cell_type": "markdown",
   "id": "bd9f9b54",
   "metadata": {},
   "source": [
    "    [0.77132064 0.02075195 0.63364823 0.74880388 0.49850701]\n",
    "    [0.77770241 0.23754122 0.82427853 0.9657492  0.97260111]\n",
    "    [0.22479665 0.19806286 0.76053071 0.16911084 0.08833981]\n",
    "    [0.45344925 0.60904246 0.77552651 0.64161334 0.72201823]\n",
    "\n",
    "## Seeding in torch"
   ]
  },
  {
   "cell_type": "code",
   "execution_count": null,
   "id": "df8fe7ad",
   "metadata": {},
   "outputs": [],
   "source": [
    "import torch"
   ]
  },
  {
   "cell_type": "code",
   "execution_count": null,
   "id": "2d782f3d",
   "metadata": {},
   "outputs": [],
   "source": [
    "torch.manual_seed(10) # Torch however seems to use the module level approach\n",
    "\n",
    "print( torch.rand(5) ) # tensor([0.4581, 0.4829, 0.3125, 0.6150, 0.2139])\n",
    "print( torch.rand(5) ) # tensor([0.4118, 0.6938, 0.9693, 0.6178, 0.3304])"
   ]
  },
  {
   "cell_type": "markdown",
   "id": "23489cb2",
   "metadata": {},
   "source": [
    "    tensor([0.4581, 0.4829, 0.3125, 0.6150, 0.2139])\n",
    "    tensor([0.4118, 0.6938, 0.9693, 0.6178, 0.3304])"
   ]
  }
 ],
 "metadata": {
  "jupytext": {
   "cell_metadata_filter": "-all",
   "main_language": "python",
   "notebook_metadata_filter": "-all"
  }
 },
 "nbformat": 4,
 "nbformat_minor": 5
}
