{
 "cells": [
  {
   "cell_type": "markdown",
   "id": "234c352d",
   "metadata": {},
   "source": [
    "# Reference\n",
    "\n",
    "Section: 7 \\\n",
    "Lecture: 56 \\\n",
    "Title: Defining models using sequential vs. class \\\n",
    "TCS Udemy Reference Link: https://tcsglobal.udemy.com/course/deeplearning_x/learn/lecture/27842158 \\\n",
    "Udemy Reference Link: \\\n",
    "Pre-Requisite:\n",
    "\n",
    "# Defining Models using Sequential vs Class\n",
    "\n",
    "`nn.Sequential` is pretty easy and quick to create. However it is pretty limited in terms of creating model architecture. However using a class, we can create complex model architecture and the using the class approach we can perform any level of customization we want.\n",
    "\n",
    "`nn.ModuleDict` is used"
   ]
  },
  {
   "cell_type": "code",
   "execution_count": null,
   "id": "73c2daa2",
   "metadata": {},
   "outputs": [],
   "source": [
    "import torch\n",
    "import torch.nn as nn\n",
    "from torch.nn import functional as F"
   ]
  },
  {
   "cell_type": "markdown",
   "id": "554c329d",
   "metadata": {},
   "source": [
    "## Building ANN using just nn.Sequential()"
   ]
  },
  {
   "cell_type": "code",
   "execution_count": null,
   "id": "d25092cc",
   "metadata": {},
   "outputs": [],
   "source": [
    "ANNSequential = nn.Sequential(\n",
    "    nn.Linear(2, 4),\n",
    "    nn.ReLU(),\n",
    "    nn.Linear(4, 3)\n",
    ")\n",
    "\n",
    "ANNSequential(torch.randn(10, 2))"
   ]
  },
  {
   "cell_type": "markdown",
   "id": "1868513d",
   "metadata": {},
   "source": [
    "    tensor([[-0.2822,  0.3955, -0.2888],\n",
    "            [-0.4650,  0.2975, -0.1183],\n",
    "            [-0.0393,  0.4018, -0.3267],\n",
    "            [-0.4650,  0.2975, -0.1183],\n",
    "            [ 0.0518,  0.4587, -0.4060],\n",
    "            [ 0.1414,  0.4263, -0.3784],\n",
    "            [-0.0868,  0.4884, -0.4243],\n",
    "            [-0.1864,  0.4833, -0.4058],\n",
    "            [-0.4650,  0.2975, -0.1183],\n",
    "            [-0.3524,  0.4256, -0.3161]], grad_fn=<AddmmBackward0>)\n",
    "\n",
    "## Building ANN without nn.Sequential() in a class"
   ]
  },
  {
   "cell_type": "code",
   "execution_count": null,
   "id": "e2840bd9",
   "metadata": {},
   "outputs": [],
   "source": [
    "class ANNClass(nn.Module):\n",
    "    def __init__(self):\n",
    "        super(ANNClass, self).__init__()\n",
    "        self.l01 = nn.Linear(2, 4)\n",
    "        self.l12 = nn.Linear(4, 3)\n",
    "\n",
    "    def forward(self, X):\n",
    "        Y = self.l01(X)\n",
    "        Y = nn.ReLU(Y)\n",
    "        Y = self.l12(Y)\n",
    "        return Y\n",
    "\n",
    "ANNClass()"
   ]
  },
  {
   "cell_type": "markdown",
   "id": "2fefd5f3",
   "metadata": {},
   "source": [
    "    ANNClass(\n",
    "      (l01): Linear(in_features=2, out_features=4, bias=True)\n",
    "      (l12): Linear(in_features=4, out_features=3, bias=True)\n",
    "    )\n",
    "\n",
    "## Building ANN using nn.Sequential() in a class"
   ]
  },
  {
   "cell_type": "code",
   "execution_count": null,
   "id": "e7ee6f59",
   "metadata": {},
   "outputs": [],
   "source": [
    "class ANNSequentialClass(nn.Module):\n",
    "    def __init__(self):\n",
    "        super(ANNSequentialClass, self).__init__()\n",
    "        self.stack = nn.Sequential(\n",
    "            nn.Linear(2, 4),\n",
    "            nn.ReLU(),\n",
    "            nn.Linear(4, 3)\n",
    "        )\n",
    "\n",
    "    def forward(self, X):\n",
    "        return self.stack(X)\n",
    "\n",
    "ANNSequentialClass()"
   ]
  },
  {
   "cell_type": "markdown",
   "id": "73190eca",
   "metadata": {},
   "source": [
    "    ANNSequentialClass(\n",
    "      (stack): Sequential(\n",
    "        (0): Linear(in_features=2, out_features=4, bias=True)\n",
    "        (1): ReLU()\n",
    "        (2): Linear(in_features=4, out_features=3, bias=True)\n",
    "      )\n",
    "    )\n",
    "\n",
    "## Building ANN using nn.ModuleDict()"
   ]
  },
  {
   "cell_type": "code",
   "execution_count": null,
   "id": "692124f3",
   "metadata": {},
   "outputs": [],
   "source": [
    "class ANNModuleDict(nn.Module):\n",
    "    def __init__(self, n_layers, n_units_per_layer):\n",
    "        super(ANNModuleDict, self).__init__()\n",
    "\n",
    "        self.n_hidden_layers = n_layers\n",
    "        self.stack = nn.ModuleDict()\n",
    "\n",
    "        # Input => Hidden 0\n",
    "        self.stack['ih1'] = nn.Linear(4, n_units_per_layer)\n",
    "\n",
    "        # Building Hidden Layers\n",
    "        for layer_no in range(1, n_layers):\n",
    "            self.stack[f'h{layer_no}h{layer_no+1}'] = nn.Linear(n_units_per_layer, n_units_per_layer)\n",
    "\n",
    "        # Hidden n => output\n",
    "        self.stack[f'h{self.n_hidden_layers}o'] = nn.Linear(n_units_per_layer, 3)\n",
    "\n",
    "    def forward(self, X):\n",
    "        Y = self.stack['ih1'](X)\n",
    "\n",
    "        for layer_no in range(1, self.n_hidden_layers):\n",
    "            Y = F.relu( self.stack[f'h{layer_no}h{layer_no+1}'](Y) )\n",
    "\n",
    "        Y = self.stack[f'h{self.n_hidden_layers}o'](Y)\n",
    "\n",
    "        return Y\n",
    "\n",
    "ANNModuleDict(n_layers=3, n_units_per_layer=10)"
   ]
  },
  {
   "cell_type": "markdown",
   "id": "a49d18ab",
   "metadata": {},
   "source": [
    "    ANNModuleDict(\n",
    "      (stack): ModuleDict(\n",
    "        (ih1): Linear(in_features=4, out_features=10, bias=True)\n",
    "        (h1h2): Linear(in_features=10, out_features=10, bias=True)\n",
    "        (h2h3): Linear(in_features=10, out_features=10, bias=True)\n",
    "        (h3o): Linear(in_features=10, out_features=3, bias=True)\n",
    "      )\n",
    "    )"
   ]
  },
  {
   "cell_type": "code",
   "execution_count": null,
   "id": "4c708470",
   "metadata": {},
   "outputs": [],
   "source": []
  }
 ],
 "metadata": {
  "jupytext": {
   "cell_metadata_filter": "-all",
   "main_language": "python",
   "notebook_metadata_filter": "-all"
  }
 },
 "nbformat": 4,
 "nbformat_minor": 5
}
