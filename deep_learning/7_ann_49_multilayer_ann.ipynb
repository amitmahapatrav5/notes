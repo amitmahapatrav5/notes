{
 "cells": [
  {
   "cell_type": "markdown",
   "id": "ab1cca73",
   "metadata": {},
   "source": [
    "# Reference\n",
    "\n",
    "Section: 7 \\\n",
    "Lecture: 49 \\\n",
    "Title: Multilayer ANN \\\n",
    "TCS Udemy Reference Link: https://tcsglobal.udemy.com/course/deeplearning_x/learn/lecture/27842138 \\\n",
    "Udemy Reference Link: \\\n",
    "Pre-Requisite:\n",
    "\n",
    "# Multilayer ANN"
   ]
  },
  {
   "cell_type": "code",
   "execution_count": null,
   "id": "2e17d4a4",
   "metadata": {},
   "outputs": [],
   "source": [
    "import torch\n",
    "from torch import nn\n",
    "from matplotlib import pyplot as plt"
   ]
  },
  {
   "cell_type": "code",
   "execution_count": null,
   "id": "ee5ba206",
   "metadata": {},
   "outputs": [],
   "source": [
    "# Prepare Data\n",
    "A = [ 1, 1 ]\n",
    "B = [ 1, 5 ]\n",
    "N = 100\n",
    "\n",
    "a = torch.stack((A[0]+torch.randn(N), A[1]+torch.randn(N)), dim=1)\n",
    "b = torch.stack((B[0]+torch.randn(N), B[1]+torch.randn(N)), dim=1)\n",
    "\n",
    "data = torch.vstack((a, b))\n",
    "labels = torch.vstack((torch.zeros(N, 1), torch.ones(N, 1)))\n",
    "data.shape, labels.shape"
   ]
  },
  {
   "cell_type": "markdown",
   "id": "e98ea1cd",
   "metadata": {},
   "source": [
    "    (torch.Size([200, 2]), torch.Size([200, 1]))"
   ]
  },
  {
   "cell_type": "code",
   "execution_count": null,
   "id": "f64b9d38",
   "metadata": {},
   "outputs": [],
   "source": [
    "# Visualize data\n",
    "plt.scatter(data [torch.where(labels==0)[0], 0], data [torch.where(labels==0)[0], 1], marker='s', color='b', facecolor='w')\n",
    "plt.scatter(data [torch.where(labels==1)[0], 0], data [torch.where(labels==1)[0], 1], marker='s', color='g', facecolor='w')\n",
    "plt.show()"
   ]
  },
  {
   "cell_type": "markdown",
   "id": "4569fd97",
   "metadata": {},
   "source": [
    "![png](7_ann_49_multilayer_ann_files/7_ann_49_multilayer_ann_4_0.png)"
   ]
  },
  {
   "cell_type": "code",
   "execution_count": null,
   "id": "560ce511",
   "metadata": {},
   "outputs": [],
   "source": [
    "# Build the model\n",
    "class ANNMultiLayerBinaryClassifier(nn.Module):\n",
    "    def __init__(self):\n",
    "        super(ANNMultiLayerBinaryClassifier, self).__init__()\n",
    "        self.stack = nn.Sequential(\n",
    "            nn.Linear(2, 16),\n",
    "            nn.ReLU(),\n",
    "            nn.Linear(16, 1),\n",
    "            nn.ReLU(),\n",
    "            nn.Linear(1, 1),\n",
    "            nn.Sigmoid()\n",
    "        )\n",
    "    def forward(self, X):\n",
    "        return self.stack(X)\n",
    "\n",
    "ANNMultiLayerBinaryClassifier()"
   ]
  },
  {
   "cell_type": "markdown",
   "id": "e368c1a7",
   "metadata": {},
   "source": [
    "    ANNMultiLayerBinaryClassifier(\n",
    "      (stack): Sequential(\n",
    "        (0): Linear(in_features=2, out_features=16, bias=True)\n",
    "        (1): ReLU()\n",
    "        (2): Linear(in_features=16, out_features=1, bias=True)\n",
    "        (3): ReLU()\n",
    "        (4): Linear(in_features=1, out_features=1, bias=True)\n",
    "        (5): Sigmoid()\n",
    "      )\n",
    "    )"
   ]
  },
  {
   "cell_type": "code",
   "execution_count": null,
   "id": "99c9152f",
   "metadata": {},
   "outputs": [],
   "source": [
    "# Train the model\n",
    "epochs = 1000\n",
    "\n",
    "def train(lr):\n",
    "    model = ANNMultiLayerBinaryClassifier()\n",
    "    loss_func = nn.BCELoss()\n",
    "    optimizer = torch.optim.SGD(model.parameters(), lr=lr)\n",
    "\n",
    "    losses = torch.zeros(epochs)\n",
    "    for epoch in range(epochs):\n",
    "        # forward\n",
    "        yHat = model(data)\n",
    "\n",
    "        # compute loss\n",
    "        loss = loss_func(yHat, labels)\n",
    "        losses[epoch] = loss\n",
    "\n",
    "        # backward\n",
    "        optimizer.zero_grad()\n",
    "        loss.backward()\n",
    "        optimizer.step()\n",
    "\n",
    "    prediction = model(data)\n",
    "    accuracy = torch.mean(((prediction>0.5)==labels).float()) * 100\n",
    "\n",
    "    return accuracy, losses"
   ]
  },
  {
   "cell_type": "code",
   "execution_count": null,
   "id": "e84264c2",
   "metadata": {},
   "outputs": [],
   "source": [
    "# Test the code ones\n",
    "accuracy, losses = train(lr=0.01)\n",
    "\n",
    "plt.plot(range(epochs), losses.detach(), marker='o')\n",
    "plt.title(f'Epoch vs Loss, accuracy={accuracy}')\n",
    "plt.xlabel('epoch')\n",
    "plt.ylabel('loss')\n",
    "plt.show()"
   ]
  },
  {
   "cell_type": "markdown",
   "id": "8bb96b53",
   "metadata": {},
   "source": [
    "![png](7_ann_49_multilayer_ann_files/7_ann_49_multilayer_ann_7_0.png)\n",
    "\n",
    "## Experiment Learning Rate vs Accuracy and Epochs vs Losses"
   ]
  },
  {
   "cell_type": "code",
   "execution_count": null,
   "id": "d2a6cb59",
   "metadata": {},
   "outputs": [],
   "source": [
    "lrs = torch.linspace(0.001, 0.1, 40)\n",
    "\n",
    "allLosses = torch.zeros((len(lrs), epochs))\n",
    "accuracies = torch.zeros(len(lrs))\n",
    "\n",
    "for i in range(len(lrs)):\n",
    "    accuracy, losses = train(lrs[i])\n",
    "\n",
    "    allLosses[i, :] = losses\n",
    "    accuracies[i] = accuracy"
   ]
  },
  {
   "cell_type": "code",
   "execution_count": null,
   "id": "3938cb62",
   "metadata": {},
   "outputs": [],
   "source": [
    "# Plot the Experiment Findings\n",
    "_, axes = plt.subplots(1, 2, figsize=(12, 5))\n",
    "\n",
    "# Learning Rate vs Accuracy\n",
    "axes[0].plot(lrs.detach(), accuracies.detach(), marker='s', linestyle='-', markerfacecolor='w')\n",
    "axes[0].set_xlabel('Learning Rate')\n",
    "axes[0].set_ylabel('Accuracy')\n",
    "axes[0].set_title(f'Accuracy(MAX={accuracies.max()}%, MIN={accuracies.min()}%) by Learning Rate')\n",
    "\n",
    "# Epochs vs Losses\n",
    "for i, lr in enumerate(lrs):\n",
    "    axes[1].plot(range(len(allLosses[i])), allLosses[i].detach(), linestyle='-')\n",
    "axes[1].set_xlabel('Loss')\n",
    "axes[1].set_ylabel('Epochs')\n",
    "axes[1].set_title('Losses by Learning Rate')\n",
    "\n",
    "plt.show()"
   ]
  },
  {
   "cell_type": "markdown",
   "id": "3662251a",
   "metadata": {},
   "source": [
    "![png](7_ann_49_multilayer_ann_files/7_ann_49_multilayer_ann_10_0.png)\n",
    "\n",
    "### Why it is woking very good for certain lr and very poor for others?\n",
    "\n",
    "I have observed that, for the same learning rate also, model sometimes performs good and sometimes performs bad. However, if I am increasing the number of epochs(1000, then 2000, then 5000), the frequency of getting bad accuracy is reduced. And the experiment is showing that in verity of learning rates. So, if we perform the experiment, once again, it is likely that the learning rate for which the accuracy was bad on nth experiment, may show good accuracy in (n+1)th attempt."
   ]
  }
 ],
 "metadata": {
  "jupytext": {
   "cell_metadata_filter": "-all",
   "main_language": "python",
   "notebook_metadata_filter": "-all"
  }
 },
 "nbformat": 4,
 "nbformat_minor": 5
}
