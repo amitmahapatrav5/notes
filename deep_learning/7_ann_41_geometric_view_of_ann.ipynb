{
 "cells": [
  {
   "cell_type": "markdown",
   "id": "2c5c30c0",
   "metadata": {},
   "source": [
    "# Reference\n",
    "\n",
    "Section: 7 \\\n",
    "Lecture: 41 \\\n",
    "Title: A geometric view of ANNs \\\n",
    "TCS Udemy Reference Link: https://tcsglobal.udemy.com/course/deeplearning_x/learn/lecture/27842116 \\\n",
    "Udemy Reference Link: \\\n",
    "Pre-Requisite:\n",
    "\n",
    "Feature Space is a geometric representation of the data, where each feature is an axis and each observation is a coordinate. In practice, we have very high dimension of feature space.\n",
    "\n",
    "Model output can be of 2 types, categorical or continuous\n",
    "Categorical:\n",
    "Input Features: Sleep Duration, Study Duration\n",
    "Output: Pass/Fail\n",
    "\n",
    "Continuous:\n",
    "Input Features: Sleep Duration, Study Duration\n",
    "Output: Marks Secured"
   ]
  },
  {
   "cell_type": "code",
   "execution_count": null,
   "id": "b6188d5c",
   "metadata": {},
   "outputs": [],
   "source": []
  }
 ],
 "metadata": {
  "jupytext": {
   "cell_metadata_filter": "-all",
   "main_language": "python",
   "notebook_metadata_filter": "-all"
  }
 },
 "nbformat": 4,
 "nbformat_minor": 5
}
