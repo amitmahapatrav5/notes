{
 "cells": [
  {
   "cell_type": "markdown",
   "id": "a69e440e",
   "metadata": {},
   "source": [
    "# Reference\n",
    "\n",
    "Section: 5 \\\n",
    "Lecture: 13 \\\n",
    "Title: Spectral theories in mathematics \\\n",
    "TCS Udemy Reference Link: https://tcsglobal.udemy.com/course/deeplearning_x/learn/lecture/27841906 \\\n",
    "Udemy Reference Link: \\\n",
    "Pre-Requisite:\n",
    "\n",
    "# Spectral theories in mathematics\n",
    "\n",
    "## Difference between Complecated and Complex Systems\n",
    "\n",
    "| Feature           | Complicated                     | Complex                                                        |\n",
    "| ----------------- | ------------------------------- | -------------------------------------------------------------- |\n",
    "| Parts             | Lots of parts                   | Few or many parts                                              |\n",
    "| Nonlinearities    | Linear or few nonlinearities    | Many nonlinearities                                            |\n",
    "| Understandability | Intuitive and/or understandable | Counter- or unintuitive, difficult or impossible to understand |\n",
    "| Examples          | Car, phone, SVD                 | Chaos, biology, Conway's game of life                          |\n",
    "\n",
    "Deep Learning is\n",
    "\n",
    "**Simple**, because it's made of simple, easy math (mostly).\n",
    "\n",
    "**Complicated** because it contains many parts.\n",
    "\n",
    "**Complex** because of myriad nonlinearities and because it is unintuitive and difficult to understand."
   ]
  }
 ],
 "metadata": {
  "jupytext": {
   "cell_metadata_filter": "-all",
   "main_language": "python",
   "notebook_metadata_filter": "-all"
  }
 },
 "nbformat": 4,
 "nbformat_minor": 5
}
