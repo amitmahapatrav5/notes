{
 "cells": [
  {
   "cell_type": "markdown",
   "id": "bfdb19cf",
   "metadata": {},
   "source": [
    "# Reference\n",
    "\n",
    "Section: 7 \\\n",
    "Lecture: 54 \\\n",
    "Title: Comparing the number of hidden units \\\n",
    "TCS Udemy Reference Link: https://tcsglobal.udemy.com/course/deeplearning_x/learn/lecture/27842152 \\\n",
    "Udemy Reference Link: \\\n",
    "Pre-Requisite:"
   ]
  },
  {
   "cell_type": "code",
   "execution_count": null,
   "id": "20fa6b9f",
   "metadata": {},
   "outputs": [],
   "source": [
    "import torch\n",
    "from torch import nn\n",
    "\n",
    "import seaborn as sns\n",
    "\n",
    "import matplotlib.pyplot as plt"
   ]
  },
  {
   "cell_type": "code",
   "execution_count": null,
   "id": "9bee7b84",
   "metadata": {},
   "outputs": [],
   "source": [
    "iris = sns.load_dataset('iris')\n",
    "\n",
    "data = torch.tensor( iris[ iris.columns[:-1] ].values, dtype=torch.float32 )\n",
    "\n",
    "labels = torch.zeros(len(iris), dtype=torch.int64)\n",
    "# labels[ iris['species'] == 'versicolor' ] = 0\n",
    "labels[ iris['species'] == 'versicolor' ] = 1\n",
    "labels[ iris['species'] == 'virginica' ] = 2\n",
    "\n",
    "data.shape, labels.shape"
   ]
  },
  {
   "cell_type": "markdown",
   "id": "1d11ed51",
   "metadata": {},
   "source": [
    "    (torch.Size([150, 4]), torch.Size([150]))"
   ]
  },
  {
   "cell_type": "code",
   "execution_count": null,
   "id": "2a050ecd",
   "metadata": {},
   "outputs": [],
   "source": [
    "# build model\n",
    "class ANNIrisClassifier(nn.Module):\n",
    "    def __init__(self, n_units):\n",
    "        super(ANNIrisClassifier, self).__init__()\n",
    "        self.stack = nn.Sequential(\n",
    "            nn.Linear(4, n_units),\n",
    "            nn.ReLU(),\n",
    "            nn.Linear(n_units, 3)\n",
    "        )\n",
    "\n",
    "    def forward(self, X):\n",
    "        return self.stack(X)\n",
    "\n",
    "ANNIrisClassifier(5)"
   ]
  },
  {
   "cell_type": "markdown",
   "id": "dbc0b567",
   "metadata": {},
   "source": [
    "    ANNIrisClassifier(\n",
    "      (stack): Sequential(\n",
    "        (0): Linear(in_features=4, out_features=5, bias=True)\n",
    "        (1): ReLU()\n",
    "        (2): Linear(in_features=5, out_features=3, bias=True)\n",
    "      )\n",
    "    )"
   ]
  },
  {
   "cell_type": "code",
   "execution_count": null,
   "id": "7e524a76",
   "metadata": {},
   "outputs": [],
   "source": [
    "# train the model\n",
    "epochs = 150\n",
    "\n",
    "def train_model(n_units):\n",
    "    losses, accuracies = torch.zeros(epochs), torch.zeros(epochs)\n",
    "\n",
    "    model = ANNIrisClassifier(n_units)\n",
    "    loss_func = nn.CrossEntropyLoss()\n",
    "    optimizer = torch.optim.SGD(model.parameters(), lr=0.01)\n",
    "\n",
    "    for epoch in range(epochs):\n",
    "        # forward pass\n",
    "        yHat = model(data)\n",
    "\n",
    "        # evaluate loss\n",
    "        loss = loss_func(yHat, labels)\n",
    "        losses[epoch] = loss\n",
    "        accuracies[epoch] = torch.mean( (yHat.argmax(dim=1) == labels).float() )*100\n",
    "\n",
    "        # backprop\n",
    "        optimizer.zero_grad()\n",
    "        loss.backward()\n",
    "        optimizer.step()\n",
    "\n",
    "    return losses, accuracies"
   ]
  },
  {
   "cell_type": "code",
   "execution_count": null,
   "id": "396ffc1e",
   "metadata": {},
   "outputs": [],
   "source": [
    "# test the code once and plot the result\n",
    "losses, accuracies = train_model(16)\n",
    "\n",
    "_, axes = plt.subplots(1, 2, figsize=(12, 5))\n",
    "\n",
    "# Epoch vs Loss\n",
    "axes[0].plot(range(epochs), losses.detach(), marker='o', markerfacecolor='w')\n",
    "axes[0].set_title(f'Epoch vs Loss MIN={torch.min(losses)}')\n",
    "axes[0].set_xlabel('Epoch')\n",
    "axes[0].set_ylabel('Loss')\n",
    "\n",
    "# Epoch vs Accuracy\n",
    "axes[1].plot(range(epochs), accuracies.detach(), marker='o', color='g', markerfacecolor='w')\n",
    "axes[1].set_title(f'Epoch vs Accuracy MAX={torch.max(accuracies)}')\n",
    "axes[1].set_xlabel('Epoch')\n",
    "axes[1].set_ylabel('Accuracy')\n",
    "\n",
    "plt.show()"
   ]
  },
  {
   "cell_type": "markdown",
   "id": "624db797",
   "metadata": {},
   "source": [
    "![png](7_ann_54_comparing_the_number_of_hidden_units_files/7_ann_54_comparing_the_number_of_hidden_units_5_0.png)"
   ]
  },
  {
   "cell_type": "code",
   "execution_count": null,
   "id": "97e11ece",
   "metadata": {},
   "outputs": [],
   "source": [
    "# Parametric Experiment\n",
    "n_unit_range = torch.arange(1, 129)\n",
    "\n",
    "max_accuracies = torch.zeros(len(n_unit_range))\n",
    "\n",
    "for n_units in range(len(n_unit_range)):\n",
    "    _ , accuracies = train_model(n_units)\n",
    "    max_accuracies[n_units] = accuracies.max()"
   ]
  },
  {
   "cell_type": "code",
   "execution_count": null,
   "id": "e3fdf1c6",
   "metadata": {},
   "outputs": [],
   "source": [
    "# Epoch vs Accuracy\n",
    "plt.plot(n_unit_range.detach(), max_accuracies.detach(), marker='o', color='g', markerfacecolor='w')\n",
    "plt.title(f'Hidden Units vs Accuracy MAX={torch.max(max_accuracies)}')\n",
    "plt.xlabel('Hidden Units')\n",
    "plt.ylabel('Max Accuracy')\n",
    "plt.show()"
   ]
  },
  {
   "cell_type": "markdown",
   "id": "a8c8363a",
   "metadata": {},
   "source": [
    "![png](7_ann_54_comparing_the_number_of_hidden_units_files/7_ann_54_comparing_the_number_of_hidden_units_7_0.png)"
   ]
  },
  {
   "cell_type": "code",
   "execution_count": null,
   "id": "c5b11130",
   "metadata": {},
   "outputs": [],
   "source": []
  }
 ],
 "metadata": {
  "jupytext": {
   "cell_metadata_filter": "-all",
   "main_language": "python",
   "notebook_metadata_filter": "-all"
  }
 },
 "nbformat": 4,
 "nbformat_minor": 5
}
