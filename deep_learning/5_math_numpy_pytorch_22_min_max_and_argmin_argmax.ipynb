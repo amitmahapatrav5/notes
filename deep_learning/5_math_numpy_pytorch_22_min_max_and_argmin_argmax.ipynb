{
 "cells": [
  {
   "cell_type": "markdown",
   "id": "546630ac",
   "metadata": {},
   "source": [
    "# Reference\n",
    "\n",
    "Section: 5 \\\n",
    "Lecture: 22 \\\n",
    "Title: Min/max and argmin/argmax \\\n",
    "TCS Udemy Reference Link: https://tcsglobal.udemy.com/course/deeplearning_x/learn/lecture/27841946 \\\n",
    "Udemy Reference Link: \\\n",
    "Pre-Requisite:\n",
    "\n",
    "# Min/Max and argmin/argmax\n",
    "\n",
    "`max`/`min`: These functions return the minimum and maximum elements in a collection.\n",
    "\n",
    "`argmin`/`argmax`: These functions return the indices of the minimum and maximum elements in a collection.\n",
    "\n",
    "**Purpose of `argmin`/`argmax`**: In a neural network model trained for a classification task that utilizes the SoftMax activation function in the output layer, the `argmax` function is essential. It identifies the index of the maximum output, which indicates the class to which the input belongs."
   ]
  },
  {
   "cell_type": "code",
   "execution_count": null,
   "id": "7d5c66ad",
   "metadata": {},
   "outputs": [],
   "source": [
    "import numpy as np\n",
    "\n",
    "arr = np.array([1, -1, 0, 3, 5])\n",
    "print( np.min(arr), np.max(arr), np.argmin(arr), np.argmax(arr) )\n",
    "\n",
    "matrix = np.array([ [1, -1, 3],\n",
    "                    [0, 1, -6]\n",
    "                  ])\n",
    "\n",
    "print( np.min(matrix), np.max(matrix) ) # Min/Max in the entire matrix\n",
    "print( np.min(matrix, axis=1), np.max(matrix, axis=1) ) # Min/Max in axis=1\n"
   ]
  },
  {
   "cell_type": "code",
   "execution_count": null,
   "id": "69d398d7",
   "metadata": {},
   "outputs": [],
   "source": [
    "import torch\n",
    "\n",
    "arr = torch.tensor([1, -1, 0, 3, 5])\n",
    "print( torch.min(arr), torch.max(arr), torch.argmin(arr), torch.argmax(arr) )\n",
    "\n",
    "matrix = torch.tensor([ [1, -1, 3],\n",
    "                        [0, 1, -6]\n",
    "                      ])\n",
    "\n",
    "print( torch.min(matrix), torch.max(matrix) ) # Min/Max in the entire matrix\n",
    "print( torch.min(matrix, axis=1), torch.max(matrix, axis=1) ) # Min/Max in axis=1"
   ]
  }
 ],
 "metadata": {
  "jupytext": {
   "cell_metadata_filter": "-all",
   "main_language": "python",
   "notebook_metadata_filter": "-all"
  }
 },
 "nbformat": 4,
 "nbformat_minor": 5
}
