{
 "cells": [
  {
   "cell_type": "markdown",
   "id": "82987dd1",
   "metadata": {},
   "source": [
    "# Reference\n",
    "\n",
    "Section: 6 \\\n",
    "Lecture: 33 \\\n",
    "Title: CodeChallenge: unfortunate starting value \\\n",
    "TCS Udemy Reference Link: https://tcsglobal.udemy.com/course/deeplearning_x/learn/lecture/27842090 \\\n",
    "Udemy Reference Link: \\\n",
    "Pre-Requisite:\n",
    "\n",
    "# Code Challenge Unfortunate Starting Value\n",
    "\n",
    "## Vanishing Gradiant Problem\n",
    "\n",
    "When gradients are small, the updates to the weights during training become negligible, causing the learning process to slow down significantly or even stall."
   ]
  },
  {
   "cell_type": "code",
   "execution_count": null,
   "id": "0d8f0f2d",
   "metadata": {},
   "outputs": [],
   "source": [
    "import numpy as np\n",
    "import matplotlib.pyplot as plt"
   ]
  },
  {
   "cell_type": "code",
   "execution_count": null,
   "id": "80351228",
   "metadata": {},
   "outputs": [],
   "source": [
    "def fn(x):\n",
    "    return np.cos(2*np.pi*x) + x**2\n",
    "\n",
    "def grad(x):\n",
    "    return -2*np.pi*np.sin(2*np.pi*x) + 2*x"
   ]
  },
  {
   "cell_type": "code",
   "execution_count": null,
   "id": "6502b1cb",
   "metadata": {},
   "outputs": [],
   "source": [
    "x = np.linspace(-2, 2, 2001)\n",
    "plt.plot(x, fn(x), label='f(x)')\n",
    "plt.plot(x, grad(x), label='dfdx')\n",
    "plt.legend()\n",
    "plt.show()"
   ]
  },
  {
   "cell_type": "markdown",
   "id": "e080f0be",
   "metadata": {},
   "source": [
    "![png](6_gradient_descent_33_code_challenge_unfortunate_starting_value_files/6_gradient_descent_33_code_challenge_unfortunate_starting_value_5_0.png)"
   ]
  },
  {
   "cell_type": "code",
   "execution_count": null,
   "id": "fc62f56d",
   "metadata": {},
   "outputs": [],
   "source": [
    "lr=0.01\n",
    "epochs=100\n",
    "localmin = np.random.choice(x)\n",
    "print(localmin)\n",
    "for epoch in range(epochs):\n",
    "    localmin -= lr*grad(localmin)\n",
    "localmin # -1.42, -0.47, 0.47, 1.42 => These are possible values"
   ]
  },
  {
   "cell_type": "markdown",
   "id": "e7c76134",
   "metadata": {
    "lines_to_next_cell": 0
   },
   "source": [
    "    -1.76\n",
    "\n",
    "\n",
    "\n",
    "\n",
    "\n",
    "    np.float64(-1.4250674148261986)\n"
   ]
  },
  {
   "cell_type": "code",
   "execution_count": null,
   "id": "33758a9d",
   "metadata": {},
   "outputs": [],
   "source": [
    "x = np.linspace(-2, 2, 2001)\n",
    "plt.plot(x, fn(x), label='f(x)')\n",
    "plt.plot(x, grad(x), label='dfdx')\n",
    "plt.plot(localmin, fn(localmin), 'ro', label='Local Min')\n",
    "plt.legend()\n",
    "plt.show()"
   ]
  },
  {
   "cell_type": "markdown",
   "id": "78a54a28",
   "metadata": {},
   "source": [
    "![png](6_gradient_descent_33_code_challenge_unfortunate_starting_value_files/6_gradient_descent_33_code_challenge_unfortunate_starting_value_7_0.png)\n",
    "\n",
    "### Unfortunate Starting Point - Vanishing Gradiant Problem"
   ]
  },
  {
   "cell_type": "code",
   "execution_count": null,
   "id": "ec851655",
   "metadata": {},
   "outputs": [],
   "source": [
    "lr=0.01\n",
    "epochs=100\n",
    "localmin = 0\n",
    "localmins = np.zeros(epochs)\n",
    "print(localmin)\n",
    "for epoch in range(epochs):\n",
    "    localmins[epoch] = localmin\n",
    "    localmin -= lr*grad(localmin)\n",
    "\n",
    "localmin # 0 => It does not matter howmany epochs we use, still the model is not learning"
   ]
  },
  {
   "cell_type": "markdown",
   "id": "ed862efc",
   "metadata": {
    "lines_to_next_cell": 0
   },
   "source": [
    "    0\n",
    "\n",
    "\n",
    "\n",
    "\n",
    "\n",
    "    np.float64(0.0)\n"
   ]
  },
  {
   "cell_type": "code",
   "execution_count": null,
   "id": "7aa5c901",
   "metadata": {},
   "outputs": [],
   "source": [
    "x = np.linspace(-2, 2, 2001)\n",
    "plt.plot(x, fn(x), label='f(x)')\n",
    "plt.plot(x, grad(x), label='dfdx')\n",
    "plt.plot(localmin, fn(localmin), 'ro', label='Local Min')\n",
    "plt.legend()\n",
    "plt.show()"
   ]
  },
  {
   "cell_type": "markdown",
   "id": "1088f771",
   "metadata": {},
   "source": [
    "![png](6_gradient_descent_33_code_challenge_unfortunate_starting_value_files/6_gradient_descent_33_code_challenge_unfortunate_starting_value_10_0.png)"
   ]
  },
  {
   "cell_type": "code",
   "execution_count": null,
   "id": "95f5921b",
   "metadata": {},
   "outputs": [],
   "source": []
  }
 ],
 "metadata": {
  "jupytext": {
   "cell_metadata_filter": "-all",
   "main_language": "python",
   "notebook_metadata_filter": "-all"
  }
 },
 "nbformat": 4,
 "nbformat_minor": 5
}
