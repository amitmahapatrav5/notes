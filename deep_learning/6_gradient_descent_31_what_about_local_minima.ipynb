{
 "cells": [
  {
   "cell_type": "markdown",
   "id": "c73e0dae",
   "metadata": {},
   "source": [
    "# Reference\n",
    "\n",
    "Section: 6 \\\n",
    "Lecture: 31 \\\n",
    "Title: What about local minima? \\\n",
    "TCS Udemy Reference Link: https://tcsglobal.udemy.com/course/deeplearning_x/learn/lecture/27842082 \\\n",
    "Udemy Reference Link: \\\n",
    "Pre-Requisite:\n",
    "\n",
    "# What About Local Minima\n",
    "\n",
    "## Functions having multiple local minimas\n",
    "\n",
    "Even though, the model can get stuck in a local minimum, still it does not seem to be a big problem. WHY ??\n",
    "\n",
    "The incredible success of deep learning, in spite of the \"problems\" with gradient descent, remains a mystery.\n",
    "\n",
    "It is possible that there are many good solutions(many equally good local minima). This interpretation is consistent with the huge diversity of weight configurations that produce similar model performance. That means, models with very different configuration perform very similar in accuracy of the same problem. So that gives a hint that there are many good solutions or good local minima.\n",
    "\n",
    "Another possibility is that there are extremely few local minima in high-dimensional space. This interpretation is consistent with the complexity and absurd dimensionality of DL models.\n",
    "\n",
    "Also in higher dimensions, few points are there where that point is a minima for one dimension, but not a minima for the other dimension. These points are called saddle points. So Gradient descent will not get stuck here. So say, we have a 4000 dimension space, gradient descent will get stuck at a local minimum which will be a local minimum of all 4000 dimension. Then only there is a problem. But the probability of existence of such local minima in such high dimensional space is very low. And usually our deep learning models work on very high dimensional space.\n",
    "\n",
    "**What to do about it?**\n",
    "\n",
    "When model performance is good, don't worry about local minima.\n",
    "\n",
    "One possible solution: Re-train the model many times using different random weights (different starting locations on the loss landscape) and pick the model that does best.\n",
    "\n",
    "Another possible solution: Increase the dimensionality (complexity) of the model to have fewer local minima."
   ]
  },
  {
   "cell_type": "code",
   "execution_count": null,
   "id": "9d0dc305",
   "metadata": {},
   "outputs": [],
   "source": [
    "import numpy as np\n",
    "import pandas as pd\n",
    "import matplotlib.pyplot as plt"
   ]
  },
  {
   "cell_type": "markdown",
   "id": "4f33c40d",
   "metadata": {},
   "source": [
    "$f(x) = sin(x) + 0.5sin(3x)$\n",
    "\n",
    "$dy/dx = cos(x) + 1.5cos(3x)$"
   ]
  },
  {
   "cell_type": "code",
   "execution_count": null,
   "id": "8ea03d5b",
   "metadata": {},
   "outputs": [],
   "source": [
    "def fx(x):\n",
    "    return np.sin(x) + 0.5*np.sin(3*x)\n",
    "\n",
    "def dydx(x):\n",
    "    return np.cos(x) + 1.5*np.cos(3*x)"
   ]
  },
  {
   "cell_type": "code",
   "execution_count": null,
   "id": "692a94a7",
   "metadata": {},
   "outputs": [],
   "source": [
    "X = np.linspace(-5, 5, 100)\n",
    "Y = fx(X)"
   ]
  },
  {
   "cell_type": "code",
   "execution_count": null,
   "id": "d420464b",
   "metadata": {},
   "outputs": [],
   "source": [
    "plt.plot(X, Y)\n",
    "plt.show()"
   ]
  },
  {
   "cell_type": "markdown",
   "id": "7d949654",
   "metadata": {},
   "source": [
    "![png](6_gradient_descent_31_what_about_local_minima_files/6_gradient_descent_31_what_about_local_minima_8_0.png)"
   ]
  },
  {
   "cell_type": "code",
   "execution_count": null,
   "id": "d6b2480e",
   "metadata": {},
   "outputs": [],
   "source": [
    "def gradient_descent(localmin, learning_rate, epochs):\n",
    "    learning = np.zeros((epochs, 2))\n",
    "    for epoch in range(epochs):\n",
    "        grad = dydx(localmin)\n",
    "        learning[epoch][0] = localmin[0]\n",
    "        learning[epoch][1] = fx(localmin)[0]\n",
    "        localmin -= learning_rate*grad # ROOT OF GRADIENT DESCENT\n",
    "    return localmin, learning\n",
    "\n",
    "def plot(x, y):\n",
    "    plt.plot(X, Y)\n",
    "    plt.scatter(x, y, c='g', marker='o')\n",
    "    plt.show()"
   ]
  },
  {
   "cell_type": "code",
   "execution_count": null,
   "id": "521fe9fe",
   "metadata": {},
   "outputs": [],
   "source": [
    "localmin, learning = gradient_descent(np.array([1.]), 0.1, 100)\n",
    "plot(learning[:,0], learning[:,1])\n",
    "localmin"
   ]
  },
  {
   "cell_type": "markdown",
   "id": "c60b7cd4",
   "metadata": {
    "lines_to_next_cell": 0
   },
   "source": [
    "![png](6_gradient_descent_31_what_about_local_minima_files/6_gradient_descent_31_what_about_local_minima_10_0.png)\n",
    "\n",
    "    array([1.57079633])\n"
   ]
  },
  {
   "cell_type": "code",
   "execution_count": null,
   "id": "61278817",
   "metadata": {},
   "outputs": [],
   "source": [
    "localmin, learning = gradient_descent(np.array([0.5]), 0.1, 100)\n",
    "plot(learning[:,0], learning[:,1])\n",
    "localmin"
   ]
  },
  {
   "cell_type": "markdown",
   "id": "5c893f42",
   "metadata": {
    "lines_to_next_cell": 0
   },
   "source": [
    "![png](6_gradient_descent_31_what_about_local_minima_files/6_gradient_descent_31_what_about_local_minima_11_0.png)\n",
    "\n",
    "    array([-0.70167412])\n"
   ]
  },
  {
   "cell_type": "code",
   "execution_count": null,
   "id": "a35aada2",
   "metadata": {},
   "outputs": [],
   "source": []
  }
 ],
 "metadata": {
  "jupytext": {
   "cell_metadata_filter": "-all",
   "main_language": "python",
   "notebook_metadata_filter": "-all"
  }
 },
 "nbformat": 4,
 "nbformat_minor": 5
}
