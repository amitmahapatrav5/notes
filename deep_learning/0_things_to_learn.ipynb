{
 "cells": [
  {
   "cell_type": "markdown",
   "id": "5b6f291d",
   "metadata": {},
   "source": [
    "# Things To Know\n",
    "\n",
    "## NumPy/Torch\n",
    "\n",
    "### Transposing a matrix\n",
    "\n",
    "### Dot Product of 1D and 2D Vectors\n",
    "\n",
    "### 1. stack(), vstack(), hstack() in numpy and torch\n",
    "\n",
    "#### Transpose works for matrices having more than 1D. This is valid for both numpy and torch"
   ]
  },
  {
   "cell_type": "code",
   "execution_count": null,
   "id": "ce3c3e54",
   "metadata": {},
   "outputs": [],
   "source": [
    "import numpy as np\n",
    "import torch\n",
    "\n",
    "n = np.arange(24)\n",
    "t = torch.arange(24)\n",
    "\n",
    "# n.shape, n.T.shape # ((24,), (24,))\n",
    "# t.shape, t.T.shape # (torch.Size([24]), torch.Size([24])) # x.T.shape throws an warning"
   ]
  },
  {
   "cell_type": "markdown",
   "id": "1892f217",
   "metadata": {},
   "source": [
    "#### numpy axis is same as torch dim. Both starts with 1, not 0"
   ]
  },
  {
   "cell_type": "code",
   "execution_count": null,
   "id": "876bfd8e",
   "metadata": {},
   "outputs": [],
   "source": [
    "import numpy as np\n",
    "import torch\n",
    "\n",
    "x = np.arange(4).reshape((4, 1)).shape # (4, 1) => axis1= 4, axis2= 1\n",
    "y = torch.arange(4).reshape((4, 1)).shape # torch.Size([4, 1]) => dim1 = 4, dim2= 1\n",
    "\n",
    "x, y"
   ]
  },
  {
   "cell_type": "markdown",
   "id": "481df4c0",
   "metadata": {},
   "source": [
    "#### When using stack((x, y, z, ..)), all input arrays must have the same shape"
   ]
  },
  {
   "cell_type": "code",
   "execution_count": null,
   "id": "e056f6f1",
   "metadata": {},
   "outputs": [],
   "source": [
    "import numpy as np\n",
    "\n",
    "x = np.arange(4).reshape((4,1))\n",
    "y = np.arange(5).reshape((5,1))\n",
    "try:\n",
    "    x0 = np.stack((x, y), axis=0)\n",
    "except ValueError as ex:\n",
    "    print(ex)\n",
    "# x1 = np.stack((x, x), axis=1)\n",
    "# x2 = np.stack((x, x), axis=2)"
   ]
  },
  {
   "cell_type": "markdown",
   "id": "a7dfc8a3",
   "metadata": {},
   "source": [
    "#### stack() is NOT a general method for hstack()/vstack()\n",
    "\n",
    "#### stack() method add one more axis/dim to the input arrays/tensors\n",
    "\n",
    "#### hstack()/vstack() keep the number of axis/dim same as source, **except 1 case**.\n",
    "\n",
    "#### vstack() works on axis/dim=1, in other words, it increases number of rows\n",
    "\n",
    "#### hstack() works on axis/dim=2, in other words, it increases number of cols"
   ]
  },
  {
   "cell_type": "code",
   "execution_count": null,
   "id": "7c853a09",
   "metadata": {},
   "outputs": [],
   "source": [
    "import numpy as np\n",
    "\n",
    "x = np.arange(24) # 1D => stacking axis = 0, 1\n",
    "xx = x.reshape(3, 8) # 2D => stacking axis = 0, 1, 2\n",
    "xxx = x.reshape(2,3,4) # 3D => stacking axis = 0, 1, 2, 3\n",
    "\n",
    "# print(x) # (24,)\n",
    "# print(np.stack((x,x), axis=0)) # (2, 24)\n",
    "# print(np.stack((x,x), axis=1)) # (24, 2)\n",
    "# print(np.hstack((x, x))) # (48,)\n",
    "# print(np.vstack((x, x))) # (2, 24)\n",
    "\n",
    "# print(xx) # (3, 8)\n",
    "# print(np.stack((xx, xx), axis=0)) # (2, 3, 8)\n",
    "# print(np.stack((xx, xx), axis=1)) # (3, 2, 8)\n",
    "# print(np.stack((xx, xx), axis=2)) # (3, 8, 2)\n",
    "# print(np.hstack((xx, xx))) # (3, 16)\n",
    "# print(np.vstack((xx, xx))) # (6, 8)\n",
    "\n",
    "# print(xxx) # (2, 3, 4)\n",
    "# print(np.stack((xxx, xxx), axis=0)) # (2, 2, 3, 4)\n",
    "# print(np.stack((xxx, xxx), axis=1)) # (2, 2, 3, 4)\n",
    "# print(np.stack((xxx, xxx), axis=2)) # (2, 3, 2, 4)\n",
    "# print(np.stack((xxx, xxx), axis=3)) # (2, 3, 4, 2)\n",
    "# print(np.hstack((xxx, xxx))) # (2, 6, 4)\n",
    "# print(np.vstack((xxx, xxx))) # (4, 3, 4)\n",
    "\n",
    "\n",
    "# import torch\n",
    "\n",
    "# x = torch.arange(24) # 1D => stacking dim = 0, 1\n",
    "# xx = x.reshape(3, 8) # 2D => stacking dim = 0, 1, 2\n",
    "# xxx = x.reshape(2,3,4) # 3D => stacking dim = 0, 1, 2, 3\n",
    "\n",
    "# print(x) # torch.Size([24])\n",
    "# print(torch.stack((x,x), dim=0)) # torch.Size([2, 24])\n",
    "# print(torch.stack((x,x), dim=1)) # torch.Size([24, 2])\n",
    "# print(torch.hstack((x, x))) # torch.Size([48])\n",
    "# print(torch.vstack((x, x))) # torch.Size([2, 24])\n",
    "\n",
    "# print(xx) # torch.Size([3, 8])\n",
    "# print(torch.stack((xx, xx), dim=0)) # torch.Size([2, 3, 8])\n",
    "# print(torch.stack((xx, xx), dim=1)) # torch.Size([3, 2, 8])\n",
    "# print(torch.stack((xx, xx), dim=2)) # torch.Size([3, 8, 2])\n",
    "# print(torch.hstack((xx, xx))) # torch.Size([3, 16])\n",
    "# print(torch.vstack((xx, xx))) # torch.Size([6, 8])\n",
    "\n",
    "# print(xxx) # torch.Size([2, 3, 4])\n",
    "# print(torch.stack((xxx, xxx), dim=0)) # torch.Size([2, 2, 3, 4])\n",
    "# print(torch.stack((xxx, xxx), dim=1)) # torch.Size([2, 2, 3, 4])\n",
    "# print(torch.stack((xxx, xxx), dim=2)) # torch.Size([2, 3, 2, 4])\n",
    "# print(torch.stack((xxx, xxx), dim=3)) # torch.Size([2, 3, 4, 2])\n",
    "# print(torch.hstack((xxx, xxx))) # torch.Size([2, 6, 4])\n",
    "# print(torch.vstack((xxx, xxx))) # torch.Size([4, 3, 4])"
   ]
  },
  {
   "cell_type": "markdown",
   "id": "87746b67",
   "metadata": {},
   "source": [
    "#### hstack()/vstack() keep the number of axis/dim same as source, **except 1 case, where the sourse axis/dim is 1 and we are performing vstack**"
   ]
  },
  {
   "cell_type": "code",
   "execution_count": null,
   "id": "f097351c",
   "metadata": {},
   "outputs": [],
   "source": [
    "# numpy example\n",
    "import numpy as np\n",
    "\n",
    "x = np.arange(12)\n",
    "y = np.arange(11, -1, -1)\n",
    "print(x.shape, y.shape)\n",
    "\n",
    "print(np.stack((x, y), axis=0).shape)\n",
    "print(np.vstack((x, y)).shape)\n",
    "\n",
    "\n",
    "# torch example\n",
    "import torch\n",
    "\n",
    "x = torch.arange(12)\n",
    "y = torch.arange(11, -1, -1)\n",
    "print(x.shape, y.shape)\n",
    "\n",
    "print(torch.stack((x, y), dim=0).shape)\n",
    "print(torch.vstack((x, y)).shape)"
   ]
  },
  {
   "cell_type": "markdown",
   "id": "424161a9",
   "metadata": {},
   "source": [
    "### 2. squeeze() and unsqueeze() operation in numpy and torch\n",
    "\n",
    "### 3. mean() in numpy/torch along various axis\n",
    "\n",
    "### 4. where() in numpy/torch\n",
    "\n",
    "### 5. round() in numpy/torch\n",
    "\n",
    "### 6. How to create the distributions like below and understand what exactly normal distribution means"
   ]
  },
  {
   "cell_type": "code",
   "execution_count": null,
   "id": "9c351b34",
   "metadata": {},
   "outputs": [],
   "source": [
    "import torch\n",
    "import matplotlib.pyplot as plt\n",
    "\n",
    "nPerClust = 100\n",
    "blur = 1\n",
    "\n",
    "A = [1, 1]\n",
    "B = [6, 6]\n",
    "\n",
    "# Generate data\n",
    "a = torch.stack((A[0] + torch.randn(nPerClust) * blur, A[1] + torch.randn(nPerClust) * blur))\n",
    "b = torch.stack((B[0] + torch.randn(nPerClust) * blur, B[1] + torch.randn(nPerClust) * blur))\n",
    "\n",
    "# True labels\n",
    "labels = torch.cat((torch.zeros(nPerClust, 1), torch.ones(nPerClust, 1)))\n",
    "\n",
    "# Concatenate into a matrix\n",
    "data = torch.cat((a, b), dim=1).T\n",
    "\n",
    "# Show the data\n",
    "fig = plt.figure(figsize=(5, 5))\n",
    "plt.plot(data[labels.squeeze() == 0, 0], data[labels.squeeze() == 0, 1], 'bs')\n",
    "plt.plot(data[labels.squeeze() == 1, 0], data[labels.squeeze() == 1, 1], 'ko')\n",
    "plt.show()\n"
   ]
  },
  {
   "cell_type": "markdown",
   "id": "67b2607b",
   "metadata": {},
   "source": [
    "### 7. How model performance is calculated using co-relation coefficient\n",
    "\n",
    "### 8. What is np.meshgrid and if the same is present in torch"
   ]
  },
  {
   "cell_type": "code",
   "execution_count": null,
   "id": "1fb8cd29",
   "metadata": {},
   "outputs": [],
   "source": [
    "import torch\n",
    "\n",
    "x = torch.arange(1, 11, dtype=torch.float32).reshape(5, 2)\n",
    "x, torch.mean(x, dim=1)"
   ]
  },
  {
   "cell_type": "markdown",
   "id": "86f6cd26",
   "metadata": {},
   "source": [
    "## Matplotlib\n",
    "\n",
    "### plt.subplots(row, col, figsize)\n",
    "\n",
    "### axis.plot(x, y, color, marker, linestyle, markerfacecolor, markersize, label)\n",
    "\n",
    "### axis.scatter(x, y, color, marker, label)"
   ]
  },
  {
   "cell_type": "code",
   "execution_count": null,
   "id": "f60843ed",
   "metadata": {},
   "outputs": [],
   "source": [
    "from matplotlib import pyplot as plt\n",
    "\n",
    "N = 30\n",
    "x1 = torch.randn(N)\n",
    "y1 = x + torch.randn(N) + torch.randn(N)/2\n",
    "\n",
    "fig, axis = plt.subplots(1, 1)\n",
    "axis.scatter(x, y, marker='s', color='r', facecolor='w')\n",
    "\n",
    "plt.show()"
   ]
  },
  {
   "cell_type": "markdown",
   "id": "91b80555",
   "metadata": {},
   "source": [
    "### How to create a 3D plot\n",
    "\n",
    "### How to create heatmap 3D plot\n",
    "\n",
    "## Pandas\n",
    "\n",
    "## Seaborn\n",
    "\n",
    "### sns.load_dataset()\n",
    "\n",
    "### sns.pairplot()\n",
    "\n",
    "## Experiment"
   ]
  },
  {
   "cell_type": "code",
   "execution_count": null,
   "id": "38927266",
   "metadata": {},
   "outputs": [],
   "source": [
    "import torch\n",
    "from torch import nn\n",
    "\n",
    "# Example of target with class indices\n",
    "loss = nn.CrossEntropyLoss()\n",
    "input = torch.randn(3, 5, requires_grad=True)\n",
    "target = torch.empty(3, dtype=torch.long).random_(5)\n",
    "# output = loss(input, target)\n",
    "# output.backward()\n",
    "\n",
    "# # Example of target with class probabilities\n",
    "# input = torch.randn(3, 5, requires_grad=True)\n",
    "# target = torch.randn(3, 5).softmax(dim=1)\n",
    "# output = loss(input, target)\n",
    "# output.backward()"
   ]
  },
  {
   "cell_type": "code",
   "execution_count": null,
   "id": "e35d5bf7",
   "metadata": {},
   "outputs": [],
   "source": [
    "torch.empty(4)"
   ]
  },
  {
   "cell_type": "code",
   "execution_count": null,
   "id": "a3cfcf5c",
   "metadata": {},
   "outputs": [],
   "source": [
    "bcell = nn.BCEWithLogitsLoss()\n",
    "cel = nn.CrossEntropyLoss()\n",
    "bcell, cel"
   ]
  }
 ],
 "metadata": {
  "jupytext": {
   "cell_metadata_filter": "-all",
   "main_language": "python",
   "notebook_metadata_filter": "-all"
  },
  "language_info": {
   "name": "python"
  }
 },
 "nbformat": 4,
 "nbformat_minor": 5
}
