{
 "cells": [
  {
   "cell_type": "markdown",
   "id": "6be554d6",
   "metadata": {},
   "source": [
    "# Reference\n",
    "\n",
    "Section: 7 \\\n",
    "Lecture: 44 \\\n",
    "Title: ANN math part 3 (backprop) \\\n",
    "TCS Udemy Reference Link: https://tcsglobal.udemy.com/course/deeplearning_x/learn/lecture/27842124 \\\n",
    "Udemy Reference Link: \\\n",
    "Pre-Requisite:\n",
    "\n",
    "# Back Propagation\n",
    "\n",
    "Formula: $ W = W - \\eta \\* \\frac{\\delta{CF}}{\\delta{W}} $\n",
    "\n",
    "We are trying to minimize the cost function with respect to Weights\n",
    "\n",
    "So in 2D, Dimension 1 is Weight and Dimension 2 is Cost Function Value and we are trying to find out, for which Weight, W, Cost Function value is minimum.\n",
    "\n",
    "$ \\frac{\\delta{CF}}{\\delta{W}} $\n",
    "\n",
    "$ \\frac{\\delta{ \\sigma { ( X^{T}W, \\hat{Y} ) } } }{\\delta{W}} $"
   ]
  },
  {
   "cell_type": "code",
   "execution_count": null,
   "id": "8263bbe8",
   "metadata": {},
   "outputs": [],
   "source": []
  }
 ],
 "metadata": {
  "jupytext": {
   "cell_metadata_filter": "-all",
   "main_language": "python",
   "notebook_metadata_filter": "-all"
  }
 },
 "nbformat": 4,
 "nbformat_minor": 5
}
