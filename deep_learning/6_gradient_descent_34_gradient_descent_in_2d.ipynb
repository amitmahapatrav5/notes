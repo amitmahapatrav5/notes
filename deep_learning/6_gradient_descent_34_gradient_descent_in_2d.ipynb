{
 "cells": [
  {
   "cell_type": "markdown",
   "id": "b4ad6ced",
   "metadata": {},
   "source": []
  },
  {
   "cell_type": "markdown",
   "id": "83b96da3",
   "metadata": {},
   "source": [
    "# Reference\n",
    "\n",
    "Section: 6 \\\n",
    "Lecture: 34 \\\n",
    "Title: Gradient descent in 2D \\\n",
    "TCS Udemy Reference Link: https://tcsglobal.udemy.com/course/deeplearning_x/learn/lecture/27842092 \\\n",
    "Lecture: 35 \\\n",
    "Title: CodeChallenge: 2D gradient ascent\n",
    "TCS Udemy Reference Link: https://tcsglobal.udemy.com/course/deeplearning_x/learn/lecture/27842094\n",
    "Udemy Reference Link: \\\n",
    "Pre-Requisite:`\n",
    "\n",
    "# Gradient descent in 2D\n",
    "\n",
    "$$\n",
    "f(x, y) = 3(1 - x)^2e^{-x^2-(y+1)^2} - 10\\left(\\frac{x}{5}-x^3-y^5\\right)e^{-x^2-y^2} - \\frac{1}{3}e^{-(x+1)^2-y^2}\n",
    "$$"
   ]
  },
  {
   "cell_type": "code",
   "execution_count": null,
   "id": "b25560f8",
   "metadata": {},
   "outputs": [],
   "source": [
    "import numpy as np\n",
    "import matplotlib.pyplot as plt\n",
    "\n",
    "# Define the function f(x, y)\n",
    "def f(x, y):\n",
    "    term1 = 3 * (1 - x)**2 * np.exp(-x**2 - (y + 1)**2)\n",
    "    term2 = 10 * (x/5 - x**3 - y**5) * np.exp(-x**2 - y**2)\n",
    "    term3 = (1/3) * np.exp(-(x + 1)**2 - y**2)\n",
    "    return term1 - term2 - term3\n",
    "\n",
    "# Define the range for x and y\n",
    "x_min, x_max = -3, 3\n",
    "y_min, y_max = -3, 3\n",
    "\n",
    "# Create a grid of x and y values\n",
    "x = np.linspace(x_min, x_max, 500)\n",
    "y = np.linspace(y_min, y_max, 500)\n",
    "X, Y = np.meshgrid(x, y)\n",
    "\n",
    "# Calculate the Z values (function values) for each point in the grid\n",
    "Z = f(X, Y)\n",
    "\n",
    "# Create the heatmap\n",
    "plt.figure(figsize=(5, 4))\n",
    "plt.imshow(Z, origin='lower', extent=[x_min, x_max, y_min, y_max], cmap='viridis', aspect='auto')\n",
    "plt.colorbar(label='Function Value f(x, y)')\n",
    "plt.title('Heatmap of f(x, y)')\n",
    "plt.xlabel('x')\n",
    "plt.ylabel('y')\n",
    "plt.grid(True, linestyle='--', alpha=0.6)\n",
    "plt.show()\n"
   ]
  },
  {
   "cell_type": "markdown",
   "id": "f6e121ce",
   "metadata": {},
   "source": [
    "![png](6_gradient_descent_34_gradient_descent_in_2d_files/6_gradient_descent_34_gradient_descent_in_2d_3_0.png)\n",
    "\n",
    "**In a 2D space (such as the XY plane), we have one variable (let's say X). Therefore, when we calculate the derivative, we obtain a single value.** \\\n",
    "**In a 3D space (XYZ) or higher dimensions, we deal with multiple variables (for example, X and Y). Consequently, when we compute the derivative, we perform a partial derivative with respect to X and another partial derivative with respect to Y. In even higher dimensions, we would compute as many partial derivatives as there are variables.**\n",
    "\n",
    "### Steps for Gradient Descent(Exactly similar step as in 1D, Only difference is we take partial derivatives explicitly):\n",
    "\n",
    "**STEP 1:** Evaluate the function at the given points => fx(-3, -3) to fx(3, 3)  \n",
    "**STEP 2:** Calculate the partial derivatives => dz/dx(-3, -3) to dz/dx(3, 3) and dz/dy(-3, -3) to dz/dy(3, 3)  \n",
    "**STEP 3:** Set an initial random value => localmin(x, y)  \n",
    "**STEP 4:** Define constants => epoch, learning rate (lr)  \n",
    "**STEP 5:** Update the coordinates of the local minimum => localmin*x = localmin_x - dz/dx * lr, localmin*y = localmin_y - dz/dy * lr\n",
    "\n",
    "## Thinking Challenge: Modify the Steps in sucj a way that we get the global maximum(Gradiant Ascent)\n",
    "\n",
    "### Way 1 => Change in STEP 5\n",
    "\n",
    "**STEP 1:** Evaluate the function at the given points => fx(-3, -3) to fx(3, 3)  \n",
    "**STEP 2:** Calculate the partial derivatives => dz/dx(-3, -3) to dz/dx(3, 3) and dz/dy(-3, -3) to dz/dy(3, 3)  \n",
    "**STEP 3:** Set an initial random value => localmin(x, y)  \n",
    "**STEP 4:** Define constants => epoch, learning rate (lr)  \n",
    "**STEP 5:** Update the coordinates of the local minimum => localmin*x = localmin_x **+** dz/dx * lr, localmin*y = localmin_y **+** dz/dy * lr\n",
    "\n",
    "### WAY 2 => Change in STEP 2\n",
    "\n",
    "**STEP 1:** Evaluate the function at the given points => fx(-3, -3) to fx(3, 3)  \n",
    "**STEP 2:** Calculate the partial derivatives => **-1 X** dz/dx(-3, -3) to **-1 X** dz/dx(3, 3) and **-1 X** dz/dy(-3, -3) to **-1 X** dz/dy(3, 3)  \n",
    "**STEP 3:** Set an initial random value => localmin(x, y)  \n",
    "**STEP 4:** Define constants => epoch, learning rate (lr)  \n",
    "**STEP 5:** Update the coordinates of the local minimum => localmin*x = localmin_x - dz/dx * lr, localmin*y = localmin_y - dz/dy * lr"
   ]
  },
  {
   "cell_type": "code",
   "execution_count": null,
   "id": "37a9ebbe",
   "metadata": {
    "lines_to_next_cell": 0
   },
   "outputs": [],
   "source": []
  },
  {
   "cell_type": "markdown",
   "id": "eb130989",
   "metadata": {},
   "source": [
    "    "
   ]
  }
 ],
 "metadata": {
  "jupytext": {
   "cell_metadata_filter": "-all",
   "main_language": "python",
   "notebook_metadata_filter": "-all"
  }
 },
 "nbformat": 4,
 "nbformat_minor": 5
}
