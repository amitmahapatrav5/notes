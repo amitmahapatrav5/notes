{
 "cells": [
  {
   "cell_type": "markdown",
   "id": "d84f3646",
   "metadata": {},
   "source": [
    "# Reference\n",
    "\n",
    "Section: 7 \\\n",
    "Lecture: 52 \\\n",
    "Title: Multi-output ANN (iris dataset) \\\n",
    "TCS Udemy Reference Link: https://tcsglobal.udemy.com/course/deeplearning_x/learn/lecture/27842144 \\\n",
    "Udemy Reference Link: \\\n",
    "Pre-Requisite:\n",
    "\n",
    "# Multi-output ANN (iris dataset)\n",
    "\n",
    "## Why the Sigmoid Function is Inappropriate for Multiclass Classifier Models\n",
    "\n",
    "In the case of a binary classification model, we use the sigmoid function because its output range is between 0 and 1. If the output value is less than 0.5, it is classified as Type 1; otherwise, it is classified as Type 2. However, for a multiclass classifier, the sigmoid function is not suitable. We need an activation function that gives the probabilities for each class, so that all the probabilities add up to 1. This is precisely what the softmax function accomplishes."
   ]
  },
  {
   "cell_type": "code",
   "execution_count": null,
   "id": "0dc80685",
   "metadata": {},
   "outputs": [],
   "source": [
    "import torch\n",
    "from torch import nn\n",
    "\n",
    "import matplotlib.pyplot as plt\n",
    "import seaborn as sns"
   ]
  },
  {
   "cell_type": "code",
   "execution_count": null,
   "id": "05358c3b",
   "metadata": {},
   "outputs": [],
   "source": [
    "# Load data\n",
    "iris = sns.load_dataset('iris')\n",
    "data = torch.tensor(iris [ iris.columns[:-1] ].values, dtype=torch.float32)\n",
    "labels = torch.zeros(len(iris), dtype=torch.long)\n",
    "# # labels[ iris['species'] == 'setosa'] = 0\n",
    "labels[ iris['species'] == 'versicolor'] = 1\n",
    "labels[ iris['species'] == 'virginica'] = 2\n",
    "\n",
    "data.shape, labels.shape\n",
    "\n",
    "class ANNMultiClassClassifier(nn.Module):\n",
    "    def __init__(self):\n",
    "        super(ANNMultiClassClassifier, self).__init__()\n",
    "        self.stack = nn.Sequential(\n",
    "            nn.Linear(4, 64),\n",
    "            nn.ReLU(),\n",
    "            nn.Linear(64,64),\n",
    "            nn.ReLU(),\n",
    "            nn.Linear(64, 3)\n",
    "        )\n",
    "    def forward(self, X):\n",
    "        return self.stack(X)\n",
    "\n",
    "model = ANNMultiClassClassifier()\n",
    "model"
   ]
  },
  {
   "cell_type": "code",
   "execution_count": null,
   "id": "099bfbbb",
   "metadata": {},
   "outputs": [],
   "source": [
    "# train the model\n",
    "loss_func= nn.CrossEntropyLoss()\n",
    "optimizer= torch.optim.SGD(model.parameters(), lr=0.01)\n",
    "\n",
    "epochs=1000\n",
    "losses = torch.zeros(epochs)\n",
    "accuracies = torch.zeros(epochs)\n",
    "\n",
    "for epoch in range(epochs):\n",
    "    # feed forward\n",
    "    yHat = model(data)\n",
    "\n",
    "    # claculate loss\n",
    "    loss = loss_func(yHat, labels)\n",
    "    losses[epoch] = loss\n",
    "    accuracies[epoch] = torch.mean((yHat.argmax(dim=1) == labels).float())*100\n",
    "\n",
    "    # backprop\n",
    "    optimizer.zero_grad()\n",
    "    loss.backward()\n",
    "    optimizer.step()"
   ]
  },
  {
   "cell_type": "code",
   "execution_count": null,
   "id": "295f798e",
   "metadata": {},
   "outputs": [],
   "source": [
    "# Evaluate the model performance\n",
    "prediction = model(data)\n",
    "accuracy = torch.mean((prediction.argmax(dim=1) == labels).float())*100\n",
    "accuracy"
   ]
  },
  {
   "cell_type": "markdown",
   "id": "eb9c016f",
   "metadata": {},
   "source": [
    "    tensor(98.)"
   ]
  },
  {
   "cell_type": "code",
   "execution_count": null,
   "id": "4be808fa",
   "metadata": {},
   "outputs": [],
   "source": [
    "# plot the performance\n",
    "_, axes = plt.subplots(1, 2, figsize=(12, 5))\n",
    "\n",
    "# Epoch vs Loss\n",
    "axes[0].plot(range(epochs), losses.detach(), marker='o', markerfacecolor='w')\n",
    "axes[0].set_title(f'Epoch vs Loss MIN={torch.min(losses)}')\n",
    "axes[0].set_xlabel('Epoch')\n",
    "axes[0].set_ylabel('Loss')\n",
    "\n",
    "# Epoch vs Accuracy\n",
    "axes[1].plot(range(epochs), accuracies.detach(), marker='o', color='g', markerfacecolor='w')\n",
    "axes[1].set_title(f'Epoch vs Accuracy MAX={torch.max(accuracies)}')\n",
    "axes[1].set_xlabel('Epoch')\n",
    "axes[1].set_ylabel('Accuracy')\n",
    "\n",
    "plt.show()"
   ]
  },
  {
   "cell_type": "markdown",
   "id": "ce240f17",
   "metadata": {},
   "source": [
    "![png](7_ann_52_multi-output_ANN_%28iris_dataset%29_files/7_ann_52_multi-output_ANN_%28iris_dataset%29_7_0.png)\n",
    "\n",
    "## Question\n",
    "\n",
    "### `BCEWithLogitsLoss` vs `CrossEntropyLoss`\n",
    "\n",
    "#### BCEWithLogitsLoss\n",
    "\n",
    "- **Purpose**: This loss function is used for binary classification problems. It combines a sigmoid layer and the binary cross-entropy loss in one single class. This is particularly useful when you have a single output neuron that predicts the probability of the positive class.\n",
    "- **Input**: It expects raw logits (the output of the last layer before applying the sigmoid function) and target labels that are either 0 or 1.\n",
    "- **Formula**: The loss is calculated as:\n",
    "  $$\n",
    "  text{loss} = -\\frac{1}{N} \\sum_{i=1}^{N} [y_i \\log(\\sigma(x_i)) + (1 - y_i) \\log(1 - \\sigma(x_i))]\n",
    "  $$\n",
    "  where $( \\sigma )$ is the sigmoid function.\n",
    "\n",
    "#### CrossEntropyLoss\n",
    "\n",
    "- **Purpose**: This loss function is used for multi-class classification problems. It expects the model's output to be a vector of raw logits for each class and the target labels to be class indices.\n",
    "- **Input**: It takes raw logits (not probabilities) for multiple classes and target labels that are integers representing the class index.\n",
    "- **Formula**: The loss is calculated as:\n",
    "  $$\n",
    "  text{loss} = -\\frac{1}{N} \\sum_{i=1}^{N} \\log\\left(\\frac{e^{x_{i,y_i}}}{\\sum_{j} e^{x_{i,j}}}\\right)\n",
    "  $$\n",
    "  where $( x_{i,j})$ is the logit for class $( j )$ for the $( i )-th$ sample, and $( y_i )$ is the true class index for the $( i )-th$ sample.\n",
    "\n",
    "### Why are we not using softmax in the Sequential itself?\n",
    "\n",
    "In PyTorch, when using `nn.CrossEntropyLoss`, you do not need to apply a softmax activation function to the output of your model. This is because `nn.CrossEntropyLoss` combines both the **softmax** activation and the **negative log-likelihood** loss in a single function. This is similar to what `BCEWithLogitsLoss` which combines both `nn.Sigmoid` and `nn.BCELoss` loss in a single function.\n",
    "\n",
    "### Why do labels have to be of long type, but not float32?\n",
    "\n",
    "`nn.CrossEntropyLoss` is used for multi-class classification problem. Also it combines both the **softmax** activation and the **negative log-likelihood** loss in a single function.\n",
    "As it is used for multi-class classification problem, it expects the model's output to be of shape `(N, C)` (where `N` is the batch size and `C` is the number of classes) and target to be of shape `(N,)`. Each label corresponds to a class, and the `CrossEntropyLoss` expects the target labels to be integers that indicate the class index (0, 1, 2, etc.).\n",
    "\n",
    "### Labels.shape is 1D, model is returning (150,3), still CrossEntropy can calculate loss, how?\n",
    "\n",
    "The labels for classification tasks in PyTorch should be of type `torch.long` (or `int64`) because they represent class indices. Each label corresponds to a class, and the `CrossEntropyLoss` expects the target labels to be integers that indicate the class index (0, 1, 2, etc.). Using `float32` would not be appropriate here, as it could lead to incorrect interpretations of the labels. The model's output is a set of logits for each class, and the loss function needs to compare these logits against integer class indices."
   ]
  },
  {
   "cell_type": "code",
   "execution_count": null,
   "id": "be4b1e65",
   "metadata": {},
   "outputs": [],
   "source": []
  }
 ],
 "metadata": {
  "jupytext": {
   "cell_metadata_filter": "-all",
   "main_language": "python",
   "notebook_metadata_filter": "-all"
  }
 },
 "nbformat": 4,
 "nbformat_minor": 5
}
