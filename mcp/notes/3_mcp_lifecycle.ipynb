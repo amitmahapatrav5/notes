{
 "cells": [
  {
   "cell_type": "markdown",
   "id": "6e560dff-52e7-43b9-8e7c-99f8af97cf1b",
   "metadata": {},
   "source": [
    "# MCP Lifecycle"
   ]
  },
  {
   "cell_type": "markdown",
   "id": "e8596d68-dff8-4a73-9276-04fd2834c5a3",
   "metadata": {},
   "source": [
    "- Say you have connected your Claude chatbot to GitHub MCP Server. Now, when you start your Claude ChatBot, it establishes a connection with GitHub Server and stay connected with it as long as your ChatBot is open. When you close the ChatBot(in this case, you do not have option to stop the server, but that will also work) the connection is terminated. This whole duration is called a session.\n",
    "- MCP Lifecycle is about the sequence of steps that is performed by all the entities(Host, MCP Client and MCP Server) to serve user.\n",
    "- MCP Lifecycle has mainly 3 stages.\n",
    "    1. Initialization\n",
    "    2. Operation\n",
    "    3. Shutdown"
   ]
  },
  {
   "cell_type": "markdown",
   "id": "c50c3947-dc0a-432f-adc6-6544bc776890",
   "metadata": {},
   "source": []
  },
  {
   "cell_type": "code",
   "execution_count": null,
   "id": "39326b00-0fb3-471b-8b9e-32ff586463a0",
   "metadata": {},
   "outputs": [],
   "source": []
  }
 ],
 "metadata": {
  "kernelspec": {
   "display_name": "Python 3 (ipykernel)",
   "language": "python",
   "name": "python3"
  },
  "language_info": {
   "codemirror_mode": {
    "name": "ipython",
    "version": 3
   },
   "file_extension": ".py",
   "mimetype": "text/x-python",
   "name": "python",
   "nbconvert_exporter": "python",
   "pygments_lexer": "ipython3",
   "version": "3.12.11"
  }
 },
 "nbformat": 4,
 "nbformat_minor": 5
}
